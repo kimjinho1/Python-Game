{
 "cells": [
  {
   "cell_type": "markdown",
   "id": "a0746ba2",
   "metadata": {
    "ExecuteTime": {
     "end_time": "2021-06-21T02:52:56.273089Z",
     "start_time": "2021-06-21T02:52:56.263116Z"
    }
   },
   "source": [
    "# 가위바위보 프로그램"
   ]
  },
  {
   "cell_type": "code",
   "execution_count": 1,
   "id": "387d185b",
   "metadata": {
    "ExecuteTime": {
     "end_time": "2021-06-21T06:27:52.602896Z",
     "start_time": "2021-06-21T06:27:49.454015Z"
    }
   },
   "outputs": [],
   "source": [
    "import tkinter\n",
    "import random\n",
    "import os\n",
    "# from functools import partial\n",
    "\n",
    "def click_btn(user_choice):\n",
    "    # 가위, 바위, 보 중 랜덤으로 하나 선택하고 rps_label에 출력\n",
    "    computer_choice = random.choice([\"가위\", \"바위\", \"보\"])\n",
    "    rps_label[\"text\"] = computer_choice\n",
    "    rps_label.update()\n",
    "    \n",
    "    # 승패를 판별하고 result_label에 출력\n",
    "    res = \"\"\n",
    "    if computer_choice == user_choice:\n",
    "        res = \"비김!\" \n",
    "    else:\n",
    "        if user_choice == \"가위\":\n",
    "            res = \"승리!\" if computer_choice == \"보\" else \"패배!\"\n",
    "        elif user_choice == \"바위\":\n",
    "            res = \"승리!\" if computer_choice == \"가위\" else \"패배!\"\n",
    "        elif user_choice == \"보\":\n",
    "            res = \"승리!\" if computer_choice == \"바위\" else \"패배!\"\n",
    "    result_label[\"text\"] = res\n",
    "    result_label.update()\n",
    "    \n",
    "        \n",
    "root = tkinter.Tk() \n",
    "root.title(\"가위바위보 프로그램\")\n",
    "root.resizable(False, False) \n",
    "canvas = tkinter.Canvas(root, width=800, height=600)\n",
    "canvas.pack()\n",
    "gazou = tkinter.PhotoImage(file=\"miko.png\")\n",
    "canvas.create_image(400, 300, image=gazou)\n",
    "\n",
    "# 컴퓨터 가위, 바위, 보 라벨\n",
    "rps_label = tkinter.Label(root, text=\"??\", font=(\"Times New Roman\", 70),\n",
    "                        bg=\"white\")\n",
    "# 승패 결과 라벨\n",
    "result_label = tkinter.Label(root, text=\"승패\", font=(\"Times New Roman\", 70),\n",
    "                        bg=\"white\")\n",
    "rps_label.place(x=340, y=190)\n",
    "result_label.place(x=560, y=190)\n",
    "\n",
    "# 가위, 바위, 보 버튼 3개\n",
    "# 버튼 명령에 인수를 전달하기 위해 lambda를 사용했다.\n",
    "# partial(clict_btn, \"가위\") 같은 방식으로도 사용할 수 있다.\n",
    "s_button = tkinter.Button(root, text=\"가위\", font=(\"Times New Roman\", 36),\n",
    "                        fg=\"skyblue\", command=lambda: click_btn(\"가위\"))\n",
    "r_button = tkinter.Button(root, text=\"바위\", font=(\"Times New Roman\", 36),\n",
    "                        fg=\"skyblue\", command=lambda: click_btn(\"바위\"))\n",
    "p_button = tkinter.Button(root, text=\"보\", font=(\"Times New Roman\", 36),\n",
    "                        fg=\"skyblue\", command=lambda: click_btn(\"보\"))\n",
    "s_button.place(x=330, y=400)\n",
    "r_button.place(x=500, y=400)\n",
    "p_button.place(x=670, y=400)\n",
    "\n",
    "root.mainloop() "
   ]
  },
  {
   "cell_type": "markdown",
   "id": "30645729",
   "metadata": {},
   "source": [
    "# 나름 보기 좋게 개선해봄"
   ]
  },
  {
   "cell_type": "code",
   "execution_count": 2,
   "id": "8a282621",
   "metadata": {
    "ExecuteTime": {
     "end_time": "2021-06-21T06:27:56.592540Z",
     "start_time": "2021-06-21T06:27:53.659460Z"
    }
   },
   "outputs": [],
   "source": [
    "import tkinter\n",
    "import random\n",
    "import os\n",
    "# from functools import partial\n",
    "\n",
    "def click_btn(user_choice):\n",
    "    # 가위, 바위, 보 중 랜덤으로 하나 선택하고 com_rps_label에 출력\n",
    "    computer_choice = random.choice([\"가위\", \"바위\", \"보\"])\n",
    "    com_rps_label[\"text\"] = computer_choice\n",
    "    com_rps_label.update()\n",
    "    \n",
    "    # 사용자가 선택한 것을 user_rps_label에 출력\n",
    "    user_rps_label[\"text\"] = user_choice\n",
    "    user_rps_label.update()\n",
    "    \n",
    "    # 승패를 판별하고 result_label에 출력\n",
    "    res = \"\"\n",
    "    if computer_choice == user_choice:\n",
    "        res = \"비김!\" \n",
    "    else:\n",
    "        if user_choice == \"가위\":\n",
    "            res = \"승리!\" if computer_choice == \"보\" else \"패배!\"\n",
    "        elif user_choice == \"바위\":\n",
    "            res = \"승리!\" if computer_choice == \"가위\" else \"패배!\"\n",
    "        elif user_choice == \"보\":\n",
    "            res = \"승리!\" if computer_choice == \"바위\" else \"패배!\"\n",
    "    result_label[\"text\"] = res\n",
    "    result_label.update()\n",
    "    \n",
    "        \n",
    "root = tkinter.Tk() \n",
    "root.title(\"가위바위보 프로그램\")\n",
    "root.resizable(False, False) \n",
    "canvas = tkinter.Canvas(root, width=800, height=600)\n",
    "canvas.pack()\n",
    "gazou = tkinter.PhotoImage(file=\"miko.png\")\n",
    "canvas.create_image(400, 300, image=gazou)\n",
    "\n",
    "# 컴퓨터, 사용자 라벨\n",
    "com_label = tkinter.Label(root, text=\"컴퓨터\", font=(\"Times New Roman\", 55),\n",
    "                        bg=\"white\")\n",
    "user_label = tkinter.Label(root, text=\"사용자\", font=(\"Times New Roman\", 55),\n",
    "                        bg=\"white\")\n",
    "# 컴퓨터 가위, 바위, 보 라벨\n",
    "com_rps_label = tkinter.Label(root, text=\"??\", font=(\"Times New Roman\", 55),\n",
    "                        bg=\"white\")\n",
    "# 사용자 가위, 바위, 보 라벨\n",
    "user_rps_label = tkinter.Label(root, text=\"??\", font=(\"Times New Roman\", 55),\n",
    "                        bg=\"white\")\n",
    "# 승패 결과 라벨\n",
    "result_label = tkinter.Label(root, text=\"승패\", font=(\"Times New Roman\", 60),\n",
    "                        bg=\"white\")\n",
    "com_label.place(x=330, y=70)\n",
    "com_rps_label.place(x=580, y=70)\n",
    "user_label.place(x=330, y=200)\n",
    "user_rps_label.place(x=580, y=200)\n",
    "result_label.place(x=450, y=320)\n",
    "\n",
    "# 가위, 바위, 보 버튼 3개\n",
    "# 버튼 명령에 인수를 전달하기 위해 lambda를 사용했다.\n",
    "# partial(clict_btn, \"가위\") 같은 방식으로도 사용할 수 있다.\n",
    "s_button = tkinter.Button(root, text=\"가위\", font=(\"Times New Roman\", 36),\n",
    "                        fg=\"skyblue\", command=lambda: click_btn(\"가위\"))\n",
    "r_button = tkinter.Button(root, text=\"바위\", font=(\"Times New Roman\", 36),\n",
    "                        fg=\"skyblue\", command=lambda: click_btn(\"바위\"))\n",
    "p_button = tkinter.Button(root, text=\"보\", font=(\"Times New Roman\", 36),\n",
    "                        fg=\"skyblue\", command=lambda: click_btn(\"보\"))\n",
    "s_button.place(x=330, y=450)\n",
    "r_button.place(x=500, y=450)\n",
    "p_button.place(x=670, y=450)\n",
    "\n",
    "root.mainloop()\n"
   ]
  },
  {
   "cell_type": "markdown",
   "id": "e19bf745",
   "metadata": {
    "ExecuteTime": {
     "end_time": "2021-06-21T05:06:20.448917Z",
     "start_time": "2021-06-21T05:06:20.441932Z"
    }
   },
   "source": [
    "# 배경 이미지 변경"
   ]
  },
  {
   "cell_type": "code",
   "execution_count": 3,
   "id": "5abf1b45",
   "metadata": {
    "ExecuteTime": {
     "end_time": "2021-06-21T06:28:01.812946Z",
     "start_time": "2021-06-21T06:27:57.707903Z"
    }
   },
   "outputs": [],
   "source": [
    "import tkinter\n",
    "import random\n",
    "# from functools import partial\n",
    "from PIL import ImageTk\n",
    "import os\n",
    "\n",
    "def click_btn(user_choice):\n",
    "    # 가위, 바위, 보 중 랜덤으로 하나 선택하고 com_rps_label에 출력\n",
    "    computer_choice = random.choice([\"가위\", \"바위\", \"보\"])\n",
    "    com_rps_label[\"text\"] = computer_choice\n",
    "    com_rps_label.update()\n",
    "    \n",
    "    # 사용자가 선택한 것을 user_rps_label에 출력\n",
    "    user_rps_label[\"text\"] = user_choice\n",
    "    user_rps_label.update()\n",
    "    \n",
    "    # 승패를 판별하고 result_label에 출력\n",
    "    res = \"\"\n",
    "    if computer_choice == user_choice:\n",
    "        res = \"비김!\" \n",
    "    else:\n",
    "        if user_choice == \"가위\":\n",
    "            res = \"승리!\" if computer_choice == \"보\" else \"패배!\"\n",
    "        elif user_choice == \"바위\":\n",
    "            res = \"승리!\" if computer_choice == \"가위\" else \"패배!\"\n",
    "        elif user_choice == \"보\":\n",
    "            res = \"승리!\" if computer_choice == \"바위\" else \"패배!\"\n",
    "    result_label[\"text\"] = res\n",
    "    result_label.update()\n",
    "    \n",
    "        \n",
    "root = tkinter.Tk() \n",
    "root.title(\"가위바위보 프로그램\")\n",
    "root.resizable(False, False) \n",
    "canvas = tkinter.Canvas(root, width=800, height=480)\n",
    "canvas.pack()\n",
    "\n",
    "# 이미지 파일에 따라 tkinter.PhotoImage가 잘 작동하지 않는 것 같다.\n",
    "# ImageTk.PhotoImage 명령을 대신 사용했다.\n",
    "# gazou = tkinter.PhotoImage(file=\"alphago.png\")\n",
    "gazou = ImageTk.PhotoImage(file=\"alphago.png\")\n",
    "canvas.create_image(400, 240, image=gazou)\n",
    "\n",
    "# 컴퓨터, 사용자 라벨\n",
    "com_label = tkinter.Label(root, text=\"컴퓨터\", font=(\"Times New Roman\", 55),\n",
    "                        bg=\"white\")\n",
    "user_label = tkinter.Label(root, text=\"사용자\", font=(\"Times New Roman\", 55),\n",
    "                        bg=\"white\")\n",
    "# 컴퓨터 가위, 바위, 보 라벨\n",
    "com_rps_label = tkinter.Label(root, text=\"??\", font=(\"Times New Roman\", 55),\n",
    "                        bg=\"white\")\n",
    "# 사용자 가위, 바위, 보 라벨\n",
    "user_rps_label = tkinter.Label(root, text=\"??\", font=(\"Times New Roman\", 55),\n",
    "                        bg=\"white\")\n",
    "# 승패 결과 라벨\n",
    "result_label = tkinter.Label(root, text=\"승패\", font=(\"Times New Roman\", 60),\n",
    "                        bg=\"white\")\n",
    "com_label.place(x=350, y=25)\n",
    "com_rps_label.place(x=600, y=25)\n",
    "user_label.place(x=350, y=145)\n",
    "user_rps_label.place(x=600, y=145)\n",
    "result_label.place(x=470, y=250)\n",
    "\n",
    "# 가위, 바위, 보 버튼 3개\n",
    "# 버튼 명령에 인수를 전달하기 위해 lambda를 사용했다.\n",
    "# partial(clict_btn, \"가위\") 같은 방식으로도 사용할 수 있다.\n",
    "s_button = tkinter.Button(root, text=\"가위\", font=(\"Times New Roman\", 36),\n",
    "                        fg=\"skyblue\", command=lambda: click_btn(\"가위\"))\n",
    "r_button = tkinter.Button(root, text=\"바위\", font=(\"Times New Roman\", 36),\n",
    "                        fg=\"skyblue\", command=lambda: click_btn(\"바위\"))\n",
    "p_button = tkinter.Button(root, text=\"보\", font=(\"Times New Roman\", 36),\n",
    "                        fg=\"skyblue\", command=lambda: click_btn(\"보\"))\n",
    "s_button.place(x=350, y=365)\n",
    "r_button.place(x=520, y=365)\n",
    "p_button.place(x=690, y=365)\n",
    "\n",
    "root.mainloop() "
   ]
  },
  {
   "cell_type": "code",
   "execution_count": null,
   "id": "74e5289e",
   "metadata": {},
   "outputs": [],
   "source": []
  },
  {
   "cell_type": "code",
   "execution_count": null,
   "id": "3a9e66f9",
   "metadata": {},
   "outputs": [],
   "source": []
  }
 ],
 "metadata": {
  "kernelspec": {
   "display_name": "Python 3",
   "language": "python",
   "name": "python3"
  },
  "language_info": {
   "codemirror_mode": {
    "name": "ipython",
    "version": 3
   },
   "file_extension": ".py",
   "mimetype": "text/x-python",
   "name": "python",
   "nbconvert_exporter": "python",
   "pygments_lexer": "ipython3",
   "version": "3.9.5"
  },
  "toc": {
   "base_numbering": 1,
   "nav_menu": {},
   "number_sections": true,
   "sideBar": true,
   "skip_h1_title": false,
   "title_cell": "Table of Contents",
   "title_sidebar": "Contents",
   "toc_cell": false,
   "toc_position": {},
   "toc_section_display": true,
   "toc_window_display": false
  },
  "varInspector": {
   "cols": {
    "lenName": 16,
    "lenType": 16,
    "lenVar": 40
   },
   "kernels_config": {
    "python": {
     "delete_cmd_postfix": "",
     "delete_cmd_prefix": "del ",
     "library": "var_list.py",
     "varRefreshCmd": "print(var_dic_list())"
    },
    "r": {
     "delete_cmd_postfix": ") ",
     "delete_cmd_prefix": "rm(",
     "library": "var_list.r",
     "varRefreshCmd": "cat(var_dic_list()) "
    }
   },
   "types_to_exclude": [
    "module",
    "function",
    "builtin_function_or_method",
    "instance",
    "_Feature"
   ],
   "window_display": false
  }
 },
 "nbformat": 4,
 "nbformat_minor": 5
}
