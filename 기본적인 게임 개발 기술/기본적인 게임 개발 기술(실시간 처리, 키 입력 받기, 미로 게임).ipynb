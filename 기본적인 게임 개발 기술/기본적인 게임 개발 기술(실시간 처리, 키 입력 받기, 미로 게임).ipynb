{
 "cells": [
  {
   "cell_type": "markdown",
   "id": "2fb3cd19",
   "metadata": {},
   "source": [
    "# 기본적인 게임 개발 기술"
   ]
  },
  {
   "cell_type": "markdown",
   "id": "d133fcc2",
   "metadata": {},
   "source": [
    "# 1 실시간 처리 구현하기"
   ]
  },
  {
   "cell_type": "markdown",
   "id": "5b2f3543",
   "metadata": {},
   "source": [
    "**파이썬에서는 after() 명령으로 실시간 처리를 수행할 수 있다.**"
   ]
  },
  {
   "cell_type": "code",
   "execution_count": 18,
   "id": "43967611",
   "metadata": {
    "ExecuteTime": {
     "end_time": "2021-06-25T04:30:44.149432Z",
     "start_time": "2021-06-25T04:30:41.833970Z"
    }
   },
   "outputs": [],
   "source": [
    "import tkinter\n",
    "\n",
    "# 사건 카운트 변수\n",
    "tmr = 0\n",
    "def count_up():\n",
    "    global tmr # tmr을 전역 변수로 취급\n",
    "    tmr += 1\n",
    "    label[\"text\"] = tmr\n",
    "    root.after(1000, count_up) # 1초 후에 다시 이 함수를 실행\n",
    "    \n",
    "root = tkinter.Tk()\n",
    "label = tkinter.Label(font=(\"Times New Roman\", 80))\n",
    "label.pack()\n",
    "root.after(1000, count_up)\n",
    "root.mainloop()"
   ]
  },
  {
   "cell_type": "markdown",
   "id": "87e18453",
   "metadata": {},
   "source": [
    "위의 코드를 실행하면 윈도우에 표시된 숫자가 1초마다 증가하는 것을 확인할 수 있다,"
   ]
  },
  {
   "cell_type": "markdown",
   "id": "173c0ab8",
   "metadata": {},
   "source": [
    "# 2 키 입력 받기"
   ]
  },
  {
   "cell_type": "markdown",
   "id": "6ec1105b",
   "metadata": {},
   "source": [
    "**사용자가 소프트웨어에 대해 키나 마우스를 조작하는 것을 이벤트(event)라고 하는데  \n",
    "파이썬에서는 bind() 명령으로 이벤트를 받을 수 있다.**"
   ]
  },
  {
   "cell_type": "markdown",
   "id": "12d3eeb8",
   "metadata": {},
   "source": [
    "## 2.1 이벤트 받기"
   ]
  },
  {
   "cell_type": "code",
   "execution_count": 20,
   "id": "3dd02ccf",
   "metadata": {
    "ExecuteTime": {
     "end_time": "2021-06-25T04:30:53.881083Z",
     "start_time": "2021-06-25T04:30:50.884276Z"
    }
   },
   "outputs": [
    {
     "name": "stdout",
     "output_type": "stream",
     "text": [
      "KEY: 49\n"
     ]
    }
   ],
   "source": [
    "import tkinter\n",
    "\n",
    "# 키 코드 입력 변수 선언\n",
    "key = 0\n",
    "# 키를 눌렀을 때 실행할 함수 정의\n",
    "def key_down(e):\n",
    "    global key # key을 전역 변수로 취급\n",
    "    key = e.keycode\n",
    "    print(f\"KEY: {key}\")\n",
    "    \n",
    "root = tkinter.Tk()\n",
    "root.title(\"키 코드 얻기\")\n",
    "root.bind(\"<KeyPress>\", key_down)\n",
    "root.mainloop()"
   ]
  },
  {
   "cell_type": "markdown",
   "id": "5ad9799f",
   "metadata": {},
   "source": [
    "### 위 코드를 실행하고 키보드 키를 누르면 그 키에 해당하는 아스키 코드 값이 출력된다."
   ]
  },
  {
   "cell_type": "markdown",
   "id": "ad3dbd11",
   "metadata": {
    "ExecuteTime": {
     "end_time": "2021-06-25T04:00:44.438851Z",
     "start_time": "2021-06-25T04:00:44.432400Z"
    }
   },
   "source": [
    "## 2.2 bind() 명령을 사용해 얻을 수 있는 이벤트"
   ]
  },
  {
   "cell_type": "markdown",
   "id": "47cf6794",
   "metadata": {},
   "source": [
    "**bind() 명령은 bind(\"<이벤트>\", 함수) 같은 방식으로 사용하고  \n",
    "얻을 수 있는 주요 이벤트는 아래와 같다.**\n",
    "\n",
    "**KeyPress 혹은 key -> 키를 누름  \n",
    "KeyRelease -> 키를 눌렀다가 뗌  \n",
    "Motion -> 마우스 포인터 움직임  \n",
    "ButtonPress 혹은 Button -> 마우스 버튼 클릭**"
   ]
  },
  {
   "cell_type": "markdown",
   "id": "b3515839",
   "metadata": {},
   "source": [
    "# 3 키 입력에 따라 이미지 움직이기"
   ]
  },
  {
   "cell_type": "markdown",
   "id": "01af6e2c",
   "metadata": {},
   "source": [
    "## 3.1 실시간 키 입력"
   ]
  },
  {
   "cell_type": "code",
   "execution_count": 21,
   "id": "1945693f",
   "metadata": {
    "ExecuteTime": {
     "end_time": "2021-06-25T04:31:01.636868Z",
     "start_time": "2021-06-25T04:30:56.610231Z"
    }
   },
   "outputs": [],
   "source": [
    "import tkinter\n",
    "\n",
    "# 키 코드 입력 변수 선언\n",
    "key = 0\n",
    "# 키를 눌렀을 때 실행할 함수 정의\n",
    "def key_down(e):\n",
    "    global key # key을 전역 변수로 취급\n",
    "    key = e.keycode\n",
    "\n",
    "# 실시간 처리를 수행할 함수 정의\n",
    "def main_proc():\n",
    "    label[\"text\"] = key\n",
    "    root.after(100, main_proc)\n",
    "    \n",
    "root = tkinter.Tk()\n",
    "root.title(\"실시간 키 입력\")\n",
    "root.bind(\"<KeyPress>\", key_down)\n",
    "label = tkinter.Label(font=(\"Times New Roman\", 80))\n",
    "label.pack()\n",
    "main_proc()\n",
    "root.mainloop()"
   ]
  },
  {
   "cell_type": "markdown",
   "id": "8f06c132",
   "metadata": {},
   "source": [
    "위의 코드를 실행하면 누른 키의 코드가 윈도우에 표시된다."
   ]
  },
  {
   "cell_type": "markdown",
   "id": "3c538466",
   "metadata": {},
   "source": [
    "**주요 키 코드는 아래와 같다.**  \n",
    "\n",
    "방향키(좌상우하) -> 37~40  \n",
    "Space키 -> 32  \n",
    "Enter키 -> 13  \n",
    "알파벳 A~Z -> 65~90  \n",
    "숫자 0~9 -> 48~57"
   ]
  },
  {
   "cell_type": "markdown",
   "id": "30e1c38b",
   "metadata": {},
   "source": [
    "## 3.2 keysym 값을 사용해 판정하기"
   ]
  },
  {
   "cell_type": "code",
   "execution_count": 8,
   "id": "c3a16833",
   "metadata": {
    "ExecuteTime": {
     "end_time": "2021-06-25T05:13:27.465779Z",
     "start_time": "2021-06-25T05:13:26.224867Z"
    },
    "code_folding": []
   },
   "outputs": [],
   "source": [
    "import tkinter\n",
    "\n",
    "# 키 이름을 입력할 변수 선언\n",
    "key = 0\n",
    "# 키를 눌렀을 때 실행할 함수 정의\n",
    "def key_down(e):\n",
    "    global key # key을 전역 변수로 취급\n",
    "    key = e.keysym # 눌려진 키 이름을 key에 대입\n",
    "\n",
    "# 실시간 처리를 수행할 함수 정의\n",
    "def main_proc():\n",
    "    label[\"text\"] = key\n",
    "    root.after(100, main_proc)\n",
    "    \n",
    "root = tkinter.Tk()\n",
    "root.title(\"실시간 키 입력\")\n",
    "root.bind(\"<KeyPress>\", key_down)\n",
    "label = tkinter.Label(font=(\"Times New Roman\", 80))\n",
    "label.pack()\n",
    "main_proc()\n",
    "root.mainloop()"
   ]
  },
  {
   "cell_type": "markdown",
   "id": "06977aec",
   "metadata": {},
   "source": [
    "위의 코드를 실행하고 Space키를 누르면 space, Enter나 return 키를 누르면 Return 이라는 문자가 표시 된다.  \n",
    "keysym으로 얻은 키 이름은 윈도우, 맥 공통이므로 keysym 값으로 판정하는 것이 편리하다고 한다!"
   ]
  },
  {
   "cell_type": "markdown",
   "id": "b56d33a5",
   "metadata": {},
   "source": [
    "## 3.3 실시간으로 캐릭터 움직이기"
   ]
  },
  {
   "cell_type": "code",
   "execution_count": 24,
   "id": "b403e41d",
   "metadata": {
    "ExecuteTime": {
     "end_time": "2021-06-25T04:32:14.134735Z",
     "start_time": "2021-06-25T04:32:07.759026Z"
    }
   },
   "outputs": [],
   "source": [
    "import tkinter\n",
    "\n",
    "# 키 이름을 입력할 변수 선언\n",
    "key = 0\n",
    "# 키를 눌렀을 때 실행할 함수 정의\n",
    "def key_down(e):\n",
    "    global key # key을 전역 변수로 취급\n",
    "    key = e.keysym # 눌려진 키 이름을 key에 대입\n",
    "\n",
    "# 키를 눌렀다 뗐을 때 실행할 함수 정의\n",
    "def key_up(e):\n",
    "    global key # key을 전역 변수로 취급\n",
    "    key = \"\" # key에 빈 문자열 대입\n",
    "\n",
    "cx = 400 # 캐릭터의 X 좌표를 관리할 변수\n",
    "cy = 300 # 캐릭터의 Y 좌표를 관리할 변수\n",
    "\n",
    "# 실시간 처리를 수행할 함수 정의\n",
    "def main_proc():\n",
    "    global cx, cy # cx, cy를 전역 변수로 선언\n",
    "    if key == \"Up\": # 위쪽 방향키 눌렀다면 Y 좌표 20 감소\n",
    "        cy -= 20\n",
    "    if key == \"Down\": # 아래쪽 방향키 눌렀다면 Y 좌표 20 증가\n",
    "        cy += 20\n",
    "    if key == \"Left\": # 왼쪽 방향키 눌렀다면 X 좌표 20 감소\n",
    "        cx -= 20\n",
    "    if key == \"Right\": # 오른쪽 방향키 눌렀다면 X 좌표 20 증가\n",
    "        cx += 20\n",
    "    canvas.coords(\"MYCHR\", cx, cy) # 캐릭터 이미지 이동\n",
    "    root.after(100, main_proc) # 0.1초 후 main_proc 함수 지정\n",
    "\n",
    "        \n",
    "root = tkinter.Tk()\n",
    "root.title(\"캐릭터 이동\")\n",
    "root.bind(\"<KeyPress>\", key_down)\n",
    "root.bind(\"<KeyRelease>\", key_up)\n",
    "canvas = tkinter.Canvas(width=800, height=600, bg=\"lightgreen\")\n",
    "canvas.pack()\n",
    "img = tkinter.PhotoImage(file=\"mimi.png\")\n",
    "canvas.create_image(cx, cy, image=img, tag=\"MYCHR\")\n",
    "main_proc()\n",
    "root.mainloop()"
   ]
  },
  {
   "cell_type": "markdown",
   "id": "31816934",
   "metadata": {},
   "source": [
    "위의 코드를 실행하면 캐릭터가 표시되고 방향키를 통해 상하좌우로 이동할 수 있다."
   ]
  },
  {
   "cell_type": "markdown",
   "id": "280318d1",
   "metadata": {},
   "source": [
    "coords()는 표시 중인 이미지를 새로운 위치로 이동시켜주는 명령이다.  \n",
    "canvas.create_image(cx, cy, image=img, tag=\"MYCHR\") 부분에서 tag는 캔버스에 그리는  \n",
    "도형이나 이미지에 붙일 수 있고, 도형이나 이미지를 움직이거나 지우는 경우에 사용한다.  \n",
    "태그 명은 자유롭게 붙일 수 있다!"
   ]
  },
  {
   "cell_type": "markdown",
   "id": "ded8db1e",
   "metadata": {},
   "source": [
    "# 4 미로 게임 구현하기"
   ]
  },
  {
   "cell_type": "markdown",
   "id": "5878ca1e",
   "metadata": {},
   "source": [
    "**이제 앞에서 봤던 것들을 사용해서 미로 게임을 구현해보자    \n",
    "단계 별로 추가된 것들을 이해하며 넘어가도록 하자!**"
   ]
  },
  {
   "cell_type": "markdown",
   "id": "9dc1d5e5",
   "metadata": {},
   "source": [
    "## 단계 1: 미로 데이터 정의"
   ]
  },
  {
   "cell_type": "markdown",
   "id": "2481390f",
   "metadata": {
    "ExecuteTime": {
     "end_time": "2021-06-25T05:09:19.309282Z",
     "start_time": "2021-06-25T05:09:19.288337Z"
    }
   },
   "source": [
    "maze -> 통로: 0, 벽: 1"
   ]
  },
  {
   "cell_type": "code",
   "execution_count": 26,
   "id": "da5e3e69",
   "metadata": {
    "ExecuteTime": {
     "end_time": "2021-06-25T04:40:42.913648Z",
     "start_time": "2021-06-25T04:40:41.021200Z"
    }
   },
   "outputs": [],
   "source": [
    "import tkinter\n",
    "\n",
    "root = tkinter.Tk()\n",
    "root.title(\"미로 표시\")\n",
    "canvas = tkinter.Canvas(width=800, height=560, bg=\"white\")\n",
    "canvas.pack()\n",
    "#  리스트로 미로 정의\n",
    "maze = [\n",
    "    [1, 1, 1, 1, 1, 1, 1, 1, 1, 1],\n",
    "    [1, 0, 0, 0, 0, 0, 1, 0, 0, 1],\n",
    "    [1, 0, 1, 1, 0, 0, 1, 0, 0, 1],\n",
    "    [1, 0, 0, 1, 0, 0, 0, 0, 0, 1],\n",
    "    [1, 0, 0, 1, 1, 1, 1, 1, 0, 1],\n",
    "    [1, 0, 0, 0, 0, 0, 0, 0, 0, 1],\n",
    "    [1, 1, 1, 1, 1, 1, 1, 1, 1, 1]\n",
    "]\n",
    "for y in range(7):\n",
    "    for x in range(10):\n",
    "        # maze[y][x]가 1, 즉 벽이라면 회색 사각형을 그림\n",
    "        if maze[y][x] == 1:\n",
    "            canvas.create_rectangle(x*80, y*80, x*80 + 80, y*80 + 80, fill=\"gray\")\n",
    "root.mainloop()"
   ]
  },
  {
   "cell_type": "markdown",
   "id": "6c7bdeb7",
   "metadata": {},
   "source": [
    "## 단계 2: 미로 안 걷기"
   ]
  },
  {
   "cell_type": "code",
   "execution_count": 3,
   "id": "5981b637",
   "metadata": {
    "ExecuteTime": {
     "end_time": "2021-06-25T05:02:01.375648Z",
     "start_time": "2021-06-25T05:01:44.338566Z"
    }
   },
   "outputs": [],
   "source": [
    "import tkinter\n",
    "\n",
    "# 키 이름을 입력할 변수 선언\n",
    "key = 0\n",
    "# 키를 눌렀을 때 실행할 함수 정의\n",
    "def key_down(e):\n",
    "    global key # key을 전역 변수로 취급\n",
    "    key = e.keysym # 눌려진 키 이름을 key에 대입\n",
    "\n",
    "# 키를 눌렀다 뗐을 때 실행할 함수 정의\n",
    "def key_up(e):\n",
    "    global key # key을 전역 변수로 취급\n",
    "    key = \"\" # key에 빈 문자열 대입\n",
    "\n",
    "mx = 1 # 캐릭터의 가로 뱡향 위치를 관리하는 변수\n",
    "my = 1 # 캐릭터의 세로 뱡향 위치를 관리하는 변수\n",
    "\n",
    "# 실시간 처리를 수행할 함수 정의\n",
    "def main_proc():\n",
    "    global mx, my # mx, my를 전역 변수로 선언\n",
    "    # key 방향이 통로라면 그 방향에 맞게 mx, my값을 변경\n",
    "    if key == \"Up\" and maze[my-1][mx] == 0: \n",
    "        my -= 1\n",
    "    if key == \"Down\" and maze[my+1][mx] == 0:\n",
    "        my += 1\n",
    "    if key == \"Left\" and maze[my][mx-1] == 0:\n",
    "        mx -= 1\n",
    "    if key == \"Right\" and maze[my][mx+1] == 0:\n",
    "        mx += 1\n",
    "    canvas.coords(\"MYCHR\", mx*80 + 40, my*80 + 40) # 캐릭터 이미지 이동\n",
    "    root.after(200, main_proc) # 0.2초 후 main_proc 함수 지정\n",
    "\n",
    "\n",
    "root = tkinter.Tk()\n",
    "root.title(\"미로 안 이동하기\")\n",
    "root.bind(\"<KeyPress>\", key_down)\n",
    "root.bind(\"<KeyRelease>\", key_up)\n",
    "canvas = tkinter.Canvas(width=800, height=560, bg=\"white\")\n",
    "canvas.pack()\n",
    "\n",
    "maze = [\n",
    "    [1, 1, 1, 1, 1, 1, 1, 1, 1, 1],\n",
    "    [1, 0, 0, 0, 0, 0, 1, 0, 0, 1],\n",
    "    [1, 0, 1, 1, 0, 0, 1, 0, 0, 1],\n",
    "    [1, 0, 0, 1, 0, 0, 0, 0, 0, 1],\n",
    "    [1, 0, 0, 1, 1, 1, 1, 1, 0, 1],\n",
    "    [1, 0, 0, 0, 0, 0, 0, 0, 0, 1],\n",
    "    [1, 1, 1, 1, 1, 1, 1, 1, 1, 1]\n",
    "]\n",
    "for y in range(7):\n",
    "    for x in range(10):\n",
    "        if maze[y][x] == 1:\n",
    "            canvas.create_rectangle(x * 80, y * 80, x * 80 + 79, y * 80 + 79, fill=\"skyblue\", width=0)\n",
    "\n",
    "img = tkinter.PhotoImage(file=\"mimi_s.png\")\n",
    "canvas.create_image(mx * 80 + 40, my * 80 + 40, image=img, tag=\"MYCHR\")\n",
    "main_proc()\n",
    "root.mainloop()"
   ]
  },
  {
   "cell_type": "markdown",
   "id": "2fe701cf",
   "metadata": {},
   "source": [
    "## 단계 3: 지나간 장소 분홍색으로 칠하기"
   ]
  },
  {
   "cell_type": "markdown",
   "id": "a940ecb9",
   "metadata": {},
   "source": [
    "maze -> 통로: 0, 벽: 1, 지나간 위치: 2"
   ]
  },
  {
   "cell_type": "code",
   "execution_count": 6,
   "id": "638eeb89",
   "metadata": {
    "ExecuteTime": {
     "end_time": "2021-06-25T05:11:19.498216Z",
     "start_time": "2021-06-25T05:10:54.744665Z"
    }
   },
   "outputs": [],
   "source": [
    "import tkinter\n",
    "\n",
    "# 키 이름을 입력할 변수 선언\n",
    "key = 0\n",
    "# 키를 눌렀을 때 실행할 함수 정의\n",
    "def key_down(e):\n",
    "    global key # key을 전역 변수로 취급\n",
    "    key = e.keysym # 눌려진 키 이름을 key에 대입\n",
    "\n",
    "# 키를 눌렀다 뗐을 때 실행할 함수 정의\n",
    "def key_up(e):\n",
    "    global key # key을 전역 변수로 취급\n",
    "    key = \"\" # key에 빈 문자열 대입\n",
    "\n",
    "mx = 1 # 캐릭터의 가로 뱡향 위치를 관리하는 변수\n",
    "my = 1 # 캐릭터의 세로 뱡향 위치를 관리하는 변수\n",
    "\n",
    "# 실시간 처리를 수행할 함수 정의\n",
    "def main_proc():\n",
    "    global mx, my # mx, my를 전역 변수로 선언\n",
    "    # key 방향이 통로라면 그 방향에 맞게 mx, my값을 변경\n",
    "    if key == \"Up\" and maze[my-1][mx] == 0: \n",
    "        my -= 1\n",
    "    if key == \"Down\" and maze[my+1][mx] == 0:\n",
    "        my += 1\n",
    "    if key == \"Left\" and maze[my][mx-1] == 0:\n",
    "        mx -= 1\n",
    "    if key == \"Right\" and maze[my][mx+1] == 0:\n",
    "        mx += 1    \n",
    "    '''\n",
    "    캐릭터가 있는 장소가 벽이 아니라면 리스트 값을 2로 변경하고\n",
    "    해당 위치를 분홍색으로 칠한다.\n",
    "    '''\n",
    "    if maze[my][mx] == 0:\n",
    "        maze[my][mx] = 2\n",
    "        canvas.create_rectangle(mx*80, my*80, mx*80 + 79, my*80 + 79, \n",
    "                                   fill=\"pink\", width=0)\n",
    "    canvas.delete(\"MYCHR\")\n",
    "    canvas.create_image(mx*80 + 40, my*80 + 40, image=img, tag=\"MYCHR\") # 캐릭터 이미지 이동\n",
    "    root.after(200, main_proc) # 0.2초 후 main_proc 함수 지정\n",
    "\n",
    "\n",
    "root = tkinter.Tk()\n",
    "root.title(\"미로를 칠하는 중\")\n",
    "root.bind(\"<KeyPress>\", key_down)\n",
    "root.bind(\"<KeyRelease>\", key_up)\n",
    "canvas = tkinter.Canvas(width=800, height=560, bg=\"white\")\n",
    "canvas.pack()\n",
    "\n",
    "maze = [\n",
    "    [1, 1, 1, 1, 1, 1, 1, 1, 1, 1],\n",
    "    [1, 0, 0, 0, 0, 0, 1, 0, 0, 1],\n",
    "    [1, 0, 1, 1, 0, 0, 1, 0, 0, 1],\n",
    "    [1, 0, 0, 1, 0, 0, 0, 0, 0, 1],\n",
    "    [1, 0, 0, 1, 1, 1, 1, 1, 0, 1],\n",
    "    [1, 0, 0, 0, 0, 0, 0, 0, 0, 1],\n",
    "    [1, 1, 1, 1, 1, 1, 1, 1, 1, 1]\n",
    "]\n",
    "for y in range(7):\n",
    "    for x in range(10):\n",
    "        if maze[y][x] == 1:\n",
    "            canvas.create_rectangle(x * 80, y * 80, x * 80 + 79, y * 80 + 79, fill=\"skyblue\", width=0)\n",
    "\n",
    "img = tkinter.PhotoImage(file=\"mimi_s.png\")\n",
    "canvas.create_image(mx * 80 + 40, my * 80 + 40, image=img, tag=\"MYCHR\")\n",
    "main_proc()\n",
    "root.mainloop()"
   ]
  },
  {
   "cell_type": "markdown",
   "id": "db565b01",
   "metadata": {},
   "source": [
    "## 단계 4: 게임 클리어 판정하기"
   ]
  },
  {
   "cell_type": "code",
   "execution_count": 9,
   "id": "9db04f13",
   "metadata": {
    "ExecuteTime": {
     "end_time": "2021-06-25T05:20:33.452404Z",
     "start_time": "2021-06-25T05:20:09.741205Z"
    }
   },
   "outputs": [],
   "source": [
    "import tkinter\n",
    "import tkinter.messagebox #  메시지 박스 표시를 위해 import\n",
    "\n",
    "# 키 이름을 입력할 변수 선언\n",
    "key = 0\n",
    "# 키를 눌렀을 때 실행할 함수 정의\n",
    "def key_down(e):\n",
    "    global key # key을 전역 변수로 취급\n",
    "    key = e.keysym # 눌려진 키 이름을 key에 대입\n",
    "\n",
    "# 키를 눌렀다 뗐을 때 실행할 함수 정의\n",
    "def key_up(e):\n",
    "    global key # key을 전역 변수로 취급\n",
    "    key = \"\" # key에 빈 문자열 대입\n",
    "\n",
    "mx = 1 # 캐릭터의 가로 뱡향 위치를 관리하는 변수\n",
    "my = 1 # 캐릭터의 세로 뱡향 위치를 관리하는 변수\n",
    "yuka = 0 # 칠해진 칸을 세는 변수\n",
    "\n",
    "# 실시간 처리를 수행할 함수 정의\n",
    "def main_proc():\n",
    "    global mx, my, yuka # mx, my, yuka를 전역 변수로 선언\n",
    "    # key 방향이 통로라면 그 방향에 맞게 mx, my값을 변경\n",
    "    if key == \"Up\" and maze[my-1][mx] == 0: \n",
    "        my -= 1\n",
    "    if key == \"Down\" and maze[my+1][mx] == 0:\n",
    "        my += 1\n",
    "    if key == \"Left\" and maze[my][mx-1] == 0:\n",
    "        mx -= 1\n",
    "    if key == \"Right\" and maze[my][mx+1] == 0:\n",
    "        mx += 1    \n",
    "    '''\n",
    "    캐릭터가 있는 장소가 벽이 아니라면 리스트 값을 2로 변경,\n",
    "    칠한 회수를 1 증가시키고, 해당 위치를 분홍색으로 칠한다.\n",
    "    '''\n",
    "    if maze[my][mx] == 0:\n",
    "        maze[my][mx] = 2\n",
    "        yuka += 1\n",
    "        canvas.create_rectangle(mx*80, my*80, mx*80 + 79, my*80 + 79, \n",
    "                                   fill=\"pink\", width=0)\n",
    "    canvas.delete(\"MYCHR\")\n",
    "    canvas.create_image(mx*80 + 40, my*80 + 40, image=img, tag=\"MYCHR\") # 캐릭터 이미지 이동\n",
    "    \n",
    "    # 30개 칸을 모두 칠했다면 클리어 메시지를 표시해주고\n",
    "    # 그렇지 않다면 0.2초 후 main_proc 함수를 실행한다.\n",
    "    if yuka == 30:\n",
    "        canvas.update()\n",
    "        tkinter.messagebox.showinfo(\"축하합니다!\", \"모든 바닥을 칠했습니다!\")\n",
    "    else:\n",
    "        root.after(200, main_proc)\n",
    "\n",
    "\n",
    "root = tkinter.Tk()\n",
    "root.title(\"미로를 칠하는 중\")\n",
    "root.bind(\"<KeyPress>\", key_down)\n",
    "root.bind(\"<KeyRelease>\", key_up)\n",
    "canvas = tkinter.Canvas(width=800, height=560, bg=\"white\")\n",
    "canvas.pack()\n",
    "\n",
    "maze = [\n",
    "    [1, 1, 1, 1, 1, 1, 1, 1, 1, 1],\n",
    "    [1, 0, 0, 0, 0, 0, 1, 0, 0, 1],\n",
    "    [1, 0, 1, 1, 0, 0, 1, 0, 0, 1],\n",
    "    [1, 0, 0, 1, 0, 0, 0, 0, 0, 1],\n",
    "    [1, 0, 0, 1, 1, 1, 1, 1, 0, 1],\n",
    "    [1, 0, 0, 0, 0, 0, 0, 0, 0, 1],\n",
    "    [1, 1, 1, 1, 1, 1, 1, 1, 1, 1]\n",
    "]\n",
    "for y in range(7):\n",
    "    for x in range(10):\n",
    "        if maze[y][x] == 1:\n",
    "            canvas.create_rectangle(x * 80, y * 80, x * 80 + 79, y * 80 + 79, fill=\"skyblue\", width=0)\n",
    "\n",
    "img = tkinter.PhotoImage(file=\"mimi_s.png\")\n",
    "canvas.create_image(mx * 80 + 40, my * 80 + 40, image=img, tag=\"MYCHR\")\n",
    "main_proc()\n",
    "root.mainloop()"
   ]
  },
  {
   "cell_type": "markdown",
   "id": "ea48021e",
   "metadata": {},
   "source": [
    "## 단계 5: 다시 시작 처리 추가하기"
   ]
  },
  {
   "cell_type": "code",
   "execution_count": 11,
   "id": "9a0e3370",
   "metadata": {
    "ExecuteTime": {
     "end_time": "2021-06-25T05:26:25.690771Z",
     "start_time": "2021-06-25T05:26:04.172247Z"
    }
   },
   "outputs": [],
   "source": [
    "import tkinter\n",
    "import tkinter.messagebox #  메시지 박스 표시를 위해 import\n",
    "\n",
    "# 키 이름을 입력할 변수 선언\n",
    "key = 0\n",
    "# 키를 눌렀을 때 실행할 함수 정의\n",
    "def key_down(e):\n",
    "    global key # key을 전역 변수로 취급\n",
    "    key = e.keysym # 눌려진 키 이름을 key에 대입\n",
    "\n",
    "# 키를 눌렀다 뗐을 때 실행할 함수 정의\n",
    "def key_up(e):\n",
    "    global key # key을 전역 변수로 취급\n",
    "    key = \"\" # key에 빈 문자열 대입\n",
    "\n",
    "mx = 1 # 캐릭터의 가로 뱡향 위치를 관리하는 변수\n",
    "my = 1 # 캐릭터의 세로 뱡향 위치를 관리하는 변수\n",
    "yuka = 0 # 칠해진 칸을 세는 변수\n",
    "\n",
    "# 실시간 처리를 수행할 함수 정의\n",
    "def main_proc():\n",
    "    global mx, my, yuka # mx, my, yuka를 전역 변수로 선언\n",
    "    \n",
    "    # 왼쪽 Shift 키를 눌렀고 미로가 2칸 이상 칠해진 상태라면 게임 초기화\n",
    "    if key == \"Shift_L\" and yuka > 1:\n",
    "        canvas.delete(\"PAINT\")\n",
    "        mx = 1\n",
    "        my = 1\n",
    "        yuka = 0\n",
    "        for y in range(7):\n",
    "            for x in range(10):\n",
    "                if maze[y][x] == 2:\n",
    "                    maze[y][x] = 0\n",
    "    \n",
    "    # key 방향이 통로라면 그 방향에 맞게 mx, my값을 변경\n",
    "    if key == \"Up\" and maze[my-1][mx] == 0: \n",
    "        my -= 1\n",
    "    if key == \"Down\" and maze[my+1][mx] == 0:\n",
    "        my += 1\n",
    "    if key == \"Left\" and maze[my][mx-1] == 0:\n",
    "        mx -= 1\n",
    "    if key == \"Right\" and maze[my][mx+1] == 0:\n",
    "        mx += 1    \n",
    "    '''\n",
    "    캐릭터가 있는 장소가 벽이 아니라면 리스트 값을 2로 변경,\n",
    "    칠한 회수를 1 증가시키고, 해당 위치를 분홍색으로 칠한다.\n",
    "    '''\n",
    "    if maze[my][mx] == 0:\n",
    "        maze[my][mx] = 2\n",
    "        yuka += 1\n",
    "        # 태그 추가\n",
    "        canvas.create_rectangle(mx*80, my*80, mx*80 + 79, my*80 + 79, \n",
    "                                   fill=\"pink\", width=0, tag=\"PAINT\")\n",
    "    canvas.delete(\"MYCHR\")\n",
    "    canvas.create_image(mx*80 + 40, my*80 + 40, image=img, tag=\"MYCHR\") # 캐릭터 이미지 이동\n",
    "    \n",
    "    # 30개 칸을 모두 칠했다면 클리어 메시지를 표시해주고\n",
    "    # 그렇지 않다면 0.2초 후 main_proc 함수를 실행한다.\n",
    "    if yuka == 30:\n",
    "        canvas.update()\n",
    "        tkinter.messagebox.showinfo(\"축하합니다!\", \"모든 바닥을 칠했습니다!\")\n",
    "    else:\n",
    "        root.after(200, main_proc)\n",
    "\n",
    "\n",
    "root = tkinter.Tk()\n",
    "root.title(\"미로를 칠하는 중\")\n",
    "root.bind(\"<KeyPress>\", key_down)\n",
    "root.bind(\"<KeyRelease>\", key_up)\n",
    "canvas = tkinter.Canvas(width=800, height=560, bg=\"white\")\n",
    "canvas.pack()\n",
    "\n",
    "maze = [\n",
    "    [1, 1, 1, 1, 1, 1, 1, 1, 1, 1],\n",
    "    [1, 0, 0, 0, 0, 0, 1, 0, 0, 1],\n",
    "    [1, 0, 1, 1, 0, 0, 1, 0, 0, 1],\n",
    "    [1, 0, 0, 1, 0, 0, 0, 0, 0, 1],\n",
    "    [1, 0, 0, 1, 1, 1, 1, 1, 0, 1],\n",
    "    [1, 0, 0, 0, 0, 0, 0, 0, 0, 1],\n",
    "    [1, 1, 1, 1, 1, 1, 1, 1, 1, 1]\n",
    "]\n",
    "for y in range(7):\n",
    "    for x in range(10):\n",
    "        if maze[y][x] == 1:\n",
    "            canvas.create_rectangle(x * 80, y * 80, x * 80 + 79, y * 80 + 79, fill=\"skyblue\", width=0)\n",
    "\n",
    "img = tkinter.PhotoImage(file=\"mimi_s.png\")\n",
    "canvas.create_image(mx * 80 + 40, my * 80 + 40, image=img, tag=\"MYCHR\")\n",
    "main_proc()\n",
    "root.mainloop()"
   ]
  },
  {
   "cell_type": "code",
   "execution_count": null,
   "id": "70cc505a",
   "metadata": {},
   "outputs": [],
   "source": []
  },
  {
   "cell_type": "code",
   "execution_count": null,
   "id": "3939822b",
   "metadata": {},
   "outputs": [],
   "source": []
  }
 ],
 "metadata": {
  "kernelspec": {
   "display_name": "Python 3",
   "language": "python",
   "name": "python3"
  },
  "language_info": {
   "codemirror_mode": {
    "name": "ipython",
    "version": 3
   },
   "file_extension": ".py",
   "mimetype": "text/x-python",
   "name": "python",
   "nbconvert_exporter": "python",
   "pygments_lexer": "ipython3",
   "version": "3.8.5"
  },
  "toc": {
   "base_numbering": 1,
   "nav_menu": {},
   "number_sections": false,
   "sideBar": true,
   "skip_h1_title": false,
   "title_cell": "Table of Contents",
   "title_sidebar": "Contents",
   "toc_cell": false,
   "toc_position": {},
   "toc_section_display": true,
   "toc_window_display": false
  },
  "varInspector": {
   "cols": {
    "lenName": 16,
    "lenType": 16,
    "lenVar": 40
   },
   "kernels_config": {
    "python": {
     "delete_cmd_postfix": "",
     "delete_cmd_prefix": "del ",
     "library": "var_list.py",
     "varRefreshCmd": "print(var_dic_list())"
    },
    "r": {
     "delete_cmd_postfix": ") ",
     "delete_cmd_prefix": "rm(",
     "library": "var_list.r",
     "varRefreshCmd": "cat(var_dic_list()) "
    }
   },
   "types_to_exclude": [
    "module",
    "function",
    "builtin_function_or_method",
    "instance",
    "_Feature"
   ],
   "window_display": false
  }
 },
 "nbformat": 4,
 "nbformat_minor": 5
}
