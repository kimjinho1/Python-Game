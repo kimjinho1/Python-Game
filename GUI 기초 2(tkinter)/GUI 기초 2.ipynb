{
 "cells": [
  {
   "cell_type": "markdown",
   "id": "46aeb15f",
   "metadata": {},
   "source": [
    "# GUI 기초 2"
   ]
  },
  {
   "cell_type": "code",
   "execution_count": 1,
   "id": "cc558a2b",
   "metadata": {
    "ExecuteTime": {
     "end_time": "2021-06-24T06:14:44.168468Z",
     "start_time": "2021-06-24T06:14:44.128541Z"
    }
   },
   "outputs": [],
   "source": [
    "import tkinter"
   ]
  },
  {
   "cell_type": "markdown",
   "id": "90e6aaac",
   "metadata": {},
   "source": [
    "# 1 텍스트 입력 필드 배치하기"
   ]
  },
  {
   "cell_type": "markdown",
   "id": "1545bd7e",
   "metadata": {},
   "source": [
    "**텍스트 입력을 수행하는 파이썬 GUI에는   \n",
    "Entry라는 1행 입력 필드와 Text라는 여러 행 입력 필드가 있다.** "
   ]
  },
  {
   "cell_type": "markdown",
   "id": "a115072d",
   "metadata": {},
   "source": [
    "## 1.1 1행 텍스트 입력 필드"
   ]
  },
  {
   "cell_type": "markdown",
   "id": "e1be1fad",
   "metadata": {},
   "source": [
    "**텍스트 입력 필드도 place 명령으로 배치할 수 있다.**"
   ]
  },
  {
   "cell_type": "code",
   "execution_count": null,
   "id": "63ba9c1e",
   "metadata": {
    "ExecuteTime": {
     "end_time": "2021-06-24T05:43:16.732828Z",
     "start_time": "2021-06-24T05:38:26.215190Z"
    }
   },
   "outputs": [],
   "source": [
    "root = tkinter.Tk()\n",
    "root.title(\"첫번째 텍스트 입력 필드\")\n",
    "root.geometry(\"400x200\")\n",
    "# 20 문자 크기 입력 필드 컴포넌트 생성\n",
    "entry = tkinter.Entry(width=20)\n",
    "# 윈도우에 입력 필드 컴포넌트 배치\n",
    "entry.place(x=10, y=10)\n",
    "root.mainloop()"
   ]
  },
  {
   "cell_type": "markdown",
   "id": "7cb262fe",
   "metadata": {},
   "source": [
    "## 1.2 Entry 내 문자열 조작하기"
   ]
  },
  {
   "cell_type": "markdown",
   "id": "8a74ed61",
   "metadata": {},
   "source": [
    "**Entry 내 문자열은 get() 명령으로 얻을 수 있다.**"
   ]
  },
  {
   "cell_type": "code",
   "execution_count": null,
   "id": "496571af",
   "metadata": {
    "ExecuteTime": {
     "end_time": "2021-06-24T05:47:24.823182Z",
     "start_time": "2021-06-24T05:43:17.911068Z"
    }
   },
   "outputs": [],
   "source": [
    "# 버튼 클릭 시 입력 필드(entry)의 문자열을 받아서 버튼의 문자열에 대입해주는 함수\n",
    "def click_btn():\n",
    "    txt = entry.get()\n",
    "    button[\"text\"] = txt\n",
    "\n",
    "root = tkinter.Tk()\n",
    "root.title(\"첫번째 텍스트 입력 필드\")\n",
    "root.geometry(\"400x200\")\n",
    "entry = tkinter.Entry(width=20)\n",
    "entry.place(x=20, y=20)\n",
    "button = tkinter.Button(text=\"문자열 얻기\", command=click_btn)\n",
    "button.place(x=20, y=100)\n",
    "root.mainloop()"
   ]
  },
  {
   "cell_type": "markdown",
   "id": "df1f8306",
   "metadata": {},
   "source": [
    "**Entry 내 문자열을 삭제할 때는 delete(), 삽입할 때는 insert() 명령을 사용할 수 있다.**"
   ]
  },
  {
   "cell_type": "code",
   "execution_count": null,
   "id": "4b2df698",
   "metadata": {
    "ExecuteTime": {
     "end_time": "2021-06-24T05:56:10.166243Z",
     "start_time": "2021-06-24T05:47:48.582087Z"
    }
   },
   "outputs": [],
   "source": [
    "# 버튼 클릭 시 입력 필드(entry)의 문자열을 받아서 버튼의 문자열에 대입해주는 함수\n",
    "def click_btn_get():\n",
    "    txt = entry.get()\n",
    "    get_button[\"text\"] = txt\n",
    "\n",
    "# 버튼 클릭 시 버튼의 문자열의 맨 처음 인덱스에 abc를 삽입해주는 함수\n",
    "def click_btn_insert():\n",
    "    entry.insert(0, \"abc\")\n",
    "\n",
    "# 버튼 클릭 시 버튼의 문자열의 맨 처음 인덱스를 삭제해주는 함수\n",
    "def click_btn_delete():\n",
    "    entry.delete(0)\n",
    "    \n",
    "root = tkinter.Tk()\n",
    "root.title(\"첫번째 텍스트 입력 필드\")\n",
    "root.geometry(\"400x200\")\n",
    "entry = tkinter.Entry(width=20)\n",
    "entry.place(x=20, y=20)\n",
    "get_button = tkinter.Button(text=\"문자열 얻기\", command=click_btn_get)\n",
    "get_button.place(x=20, y=100)\n",
    "insert_button = tkinter.Button(text=\"insert\", command=click_btn_insert)\n",
    "insert_button.place(x=20, y=130)\n",
    "delete_button = tkinter.Button(text=\"delete\", command=click_btn_delete)\n",
    "delete_button.place(x=20, y=160)\n",
    "root.mainloop()"
   ]
  },
  {
   "cell_type": "markdown",
   "id": "52e58d04",
   "metadata": {},
   "source": [
    "# 2 여러 행 텍스트 입력 필드 배치하기"
   ]
  },
  {
   "cell_type": "markdown",
   "id": "acb9f6cd",
   "metadata": {},
   "source": [
    "## Text 내 문자열 조작하기"
   ]
  },
  {
   "cell_type": "markdown",
   "id": "a5746448",
   "metadata": {},
   "source": [
    "**Entry와 똑같이 Text도 insert, get, delete를 사용해 문자열을 조작할 수 있다.**"
   ]
  },
  {
   "cell_type": "markdown",
   "id": "d3a512e4",
   "metadata": {
    "ExecuteTime": {
     "end_time": "2021-06-23T05:15:30.937325Z",
     "start_time": "2021-06-23T05:15:30.915349Z"
    }
   },
   "source": [
    "**예를 들어 입력 필드의 문자열 전체를 가져오고 싶다면 get(\"1.0\", \"end-1c\")같은 방식으로  \n",
    "사용하면 된다. 1.0은 1행 0번째 문자, end-1c는 가장 마지막 위치를 의미한다.**"
   ]
  },
  {
   "cell_type": "markdown",
   "id": "b3d75e84",
   "metadata": {},
   "source": [
    "**tkinter.END -> 입력 필드의 가장 마지막 인덱스**"
   ]
  },
  {
   "cell_type": "code",
   "execution_count": null,
   "id": "ad9469a1",
   "metadata": {
    "ExecuteTime": {
     "end_time": "2021-06-24T05:57:04.653451Z",
     "start_time": "2021-06-24T05:56:38.133446Z"
    }
   },
   "outputs": [],
   "source": [
    "# 버튼 클릭 시 입력 필드의 문자열 전체를 가져오는 함수\n",
    "def click_btn_get():\n",
    "    txt = text.get(\"1.0\", \"end-1c\")\n",
    "    get_button[\"text\"] = txt\n",
    "\n",
    "# 버튼 클릭 시 텍스트 입력 필드 마지막에 문자열을 추가해주는 함수\n",
    "def click_btn_insert():\n",
    "    text.insert(tkinter.END, \"몬스터가 나타났다!\")    \n",
    "    \n",
    "# 버튼 클릭 시 입력 필드의 문자열 전체를 지워주는 함수\n",
    "def click_btn_delete():\n",
    "    text.delete(\"1.0\", \"end-1c\")\n",
    "    \n",
    "root = tkinter.Tk()\n",
    "root.title(\"여러 행 텍스트 입력\")\n",
    "root.geometry(\"400x400\")\n",
    "get_button = tkinter.Button(text=\"메시지\", command=click_btn_get)\n",
    "get_button.place(x=20, y=120)\n",
    "insert_button = tkinter.Button(text=\"insert\", command=click_btn_insert)\n",
    "insert_button.place(x=20, y=240)\n",
    "delete_button = tkinter.Button(text=\"delete\", command=click_btn_delete)\n",
    "delete_button.place(x=20, y=280)\n",
    "text = tkinter.Text()\n",
    "text.place(x=20, y=10, width=360, height=100)\n",
    "root.mainloop()"
   ]
  },
  {
   "cell_type": "markdown",
   "id": "294af976",
   "metadata": {},
   "source": [
    "# 3 체크 버튼 배치하기"
   ]
  },
  {
   "cell_type": "markdown",
   "id": "baa70df5",
   "metadata": {},
   "source": [
    "## 3.1 체크 버튼 배치하기"
   ]
  },
  {
   "cell_type": "markdown",
   "id": "82b8afcf",
   "metadata": {},
   "source": [
    "**체크 버튼은 Checkbutton() 명령으로 만들 수 있다.**"
   ]
  },
  {
   "cell_type": "code",
   "execution_count": null,
   "id": "7edb2b65",
   "metadata": {
    "ExecuteTime": {
     "end_time": "2021-06-24T06:03:33.370486Z",
     "start_time": "2021-06-24T06:01:34.016090Z"
    }
   },
   "outputs": [],
   "source": [
    "root = tkinter.Tk()\n",
    "root.title(\"체크 버튼 다루기\")\n",
    "root.geometry(\"400x200\")\n",
    "# 체크 버튼 컴포넌트 생성\n",
    "cbtn = tkinter.Checkbutton(text=\"체크 버튼\")\n",
    "# 체크 버튼 컴포넌트 배치\n",
    "cbtn.pack()\n",
    "root.mainloop()"
   ]
  },
  {
   "cell_type": "markdown",
   "id": "fd4f4100",
   "metadata": {},
   "source": [
    "## 3.2 체크 여부 확인하기"
   ]
  },
  {
   "cell_type": "markdown",
   "id": "f31d800b",
   "metadata": {},
   "source": [
    "**체크 버튼의 체크여부는 BooleanVar() 명령을 사용해서 확인할 수 있다.**"
   ]
  },
  {
   "cell_type": "markdown",
   "id": "5797a18a",
   "metadata": {},
   "source": [
    "**아래는 체크된 상태의 체크 버튼을 생성해주는 코드이다.**"
   ]
  },
  {
   "cell_type": "code",
   "execution_count": null,
   "id": "d6d5fbe8",
   "metadata": {
    "ExecuteTime": {
     "end_time": "2021-06-24T06:05:38.990653Z",
     "start_time": "2021-06-24T06:03:33.405399Z"
    }
   },
   "outputs": [],
   "source": [
    "root = tkinter.Tk()\n",
    "root.title(\"처음부터 체크된 상태 만들기\")\n",
    "root.geometry(\"400x200\")\n",
    "# BooleanVar() 객체 준비\n",
    "cval = tkinter.BooleanVar()\n",
    "# 객체 True 설정\n",
    "cval.set(True)\n",
    "cbtn = tkinter.Checkbutton(text=\"체크 버튼\", variable=cval)\n",
    "cbtn.pack()\n",
    "root.mainloop()"
   ]
  },
  {
   "cell_type": "markdown",
   "id": "e76be1bd",
   "metadata": {},
   "source": [
    "**체크 여부를 확인할 때는 get() 메서드를 사용하면 된다.**"
   ]
  },
  {
   "cell_type": "code",
   "execution_count": null,
   "id": "fefdb490",
   "metadata": {
    "ExecuteTime": {
     "end_time": "2021-06-24T06:06:35.752510Z",
     "start_time": "2021-06-24T06:05:42.070687Z"
    }
   },
   "outputs": [],
   "source": [
    "# 체크 버튼 클릭 시 체크 여부를 출력해주는 함수\n",
    "def check():\n",
    "    if cval.get() == True:\n",
    "        print(\"체크되어 있습니다\")\n",
    "    else:\n",
    "        print(\"체크되어 있지 않습니다\")\n",
    "    \n",
    "root = tkinter.Tk()\n",
    "root.title(\"처음부터 체크된 상태 만들기\")\n",
    "root.geometry(\"400x200\")\n",
    "cval = tkinter.BooleanVar()\n",
    "cval.set(True)\n",
    "cbtn = tkinter.Checkbutton(text=\"체크 버튼\", variable=cval, command=check)\n",
    "cbtn.pack()\n",
    "root.mainloop()"
   ]
  },
  {
   "cell_type": "markdown",
   "id": "33a54182",
   "metadata": {},
   "source": [
    "# 4 메시지 박스 표시하기"
   ]
  },
  {
   "cell_type": "markdown",
   "id": "44333abe",
   "metadata": {},
   "source": [
    "## 메시지 박스 사용 방법"
   ]
  },
  {
   "cell_type": "markdown",
   "id": "bce04852",
   "metadata": {},
   "source": [
    "**메시지 박스를 사용하기 위해서는 tkinter.messagebox 모듈을 import 해야 한다.**"
   ]
  },
  {
   "cell_type": "markdown",
   "id": "8b2cb38a",
   "metadata": {
    "ExecuteTime": {
     "end_time": "2021-06-23T05:36:19.502636Z",
     "start_time": "2021-06-23T05:36:19.491663Z"
    }
   },
   "source": [
    "**showinfo() -> 정보를 표시해주는 메시지 박스  \n",
    "showwarning() -> 경고를 표시해주는 메시지 박스  \n",
    "showerror() -> 에러를 표시해주는 메시지 박스  \n",
    "askyesno() -> \"네\", '아니오' 버튼이 있는 메시지 박스  \n",
    "askokcancel() -> 'ok', '취소' 버튼이 있는 메시지 박스**"
   ]
  },
  {
   "cell_type": "code",
   "execution_count": 3,
   "id": "b483d0f9",
   "metadata": {
    "ExecuteTime": {
     "end_time": "2021-06-24T06:32:41.000632Z",
     "start_time": "2021-06-24T06:15:29.239962Z"
    }
   },
   "outputs": [],
   "source": [
    "import tkinter.messagebox\n",
    "\n",
    "# 버튼 클릭 시 메시지 박스를 표시해주는 함수\n",
    "def click_btn():\n",
    "    tkinter.messagebox.showinfo(\"정보\", \"버튼을 눌렀습니다\")\n",
    "\n",
    "root = tkinter.Tk()\n",
    "root.title(\"첫번째 메시지 박스\")\n",
    "root.geometry(\"400x200\")\n",
    "btn = tkinter.Button(text=\"테스트\", command=click_btn)\n",
    "btn.pack()\n",
    "root.mainloop()"
   ]
  },
  {
   "cell_type": "markdown",
   "id": "2d708a05",
   "metadata": {},
   "source": [
    "# 5 고양이 지수 진단 게임 만들기"
   ]
  },
  {
   "cell_type": "markdown",
   "id": "09e4399b",
   "metadata": {},
   "source": [
    "## 단계 1: GUI 배치하기"
   ]
  },
  {
   "cell_type": "code",
   "execution_count": null,
   "id": "2c2c6ffb",
   "metadata": {
    "ExecuteTime": {
     "end_time": "2021-06-23T05:42:18.188196Z",
     "start_time": "2021-06-23T05:42:16.962724Z"
    }
   },
   "outputs": [],
   "source": [
    "root = tkinter.Tk()\n",
    "root.title(\"고양이 지수 진단 게임\")\n",
    "root.resizable(False, False)\n",
    "canvas = tkinter.Canvas(root, width=800, height=600)\n",
    "canvas.pack()\n",
    "gazou = tkinter.PhotoImage(file=\"mina.png\")\n",
    "canvas.create_image(400, 300, image=gazou)\n",
    "button = tkinter.Button(text=\"진단하기\", font=(\"Times New Roman\", 32),\n",
    "                            bg=\"lightgreen\")\n",
    "button.place(x=400, y=480)\n",
    "text = tkinter.Text(width=40, height=5, font=(\"Times New Roman\", 16))\n",
    "text.place(x=320, y=30)\n",
    "root.mainloop()"
   ]
  },
  {
   "cell_type": "markdown",
   "id": "6092c21b",
   "metadata": {},
   "source": [
    "## 단계 2: 여러 체크 버튼 배치"
   ]
  },
  {
   "cell_type": "code",
   "execution_count": null,
   "id": "e299b9a9",
   "metadata": {
    "ExecuteTime": {
     "end_time": "2021-06-23T05:47:50.919001Z",
     "start_time": "2021-06-23T05:47:49.409266Z"
    }
   },
   "outputs": [],
   "source": [
    "root = tkinter.Tk()\n",
    "root.title(\"고양이 지수 진단 게임\")\n",
    "root.resizable(False, False)\n",
    "canvas = tkinter.Canvas(root, width=800, height=600)\n",
    "canvas.pack()\n",
    "gazou = tkinter.PhotoImage(file=\"mina.png\")\n",
    "canvas.create_image(400, 300, image=gazou)\n",
    "button = tkinter.Button(text=\"진단하기\", font=(\"Times New Roman\", 32),\n",
    "                            bg=\"lightgreen\")\n",
    "button.place(x=400, y=480)\n",
    "text = tkinter.Text(width=40, height=5, font=(\"Times New Roman\", 16))\n",
    "text.place(x=320, y=30)\n",
    "\n",
    "# BooleanVal 객체용 리스트\n",
    "bvar = [None] * 7\n",
    "# 체크 버튼용 리스트\n",
    "cbtn = [None] * 7\n",
    "# 체크 버튼 질문 정의\n",
    "ITEM = [\n",
    "    \"높은 곳이 좋다\",\n",
    "    \"공을 보면 굴리고 싶어진다\",\n",
    "    \"깜짝 놀라면 털이 곤두선다\",\n",
    "    \"쥐구멍이 마음에 든다\",\n",
    "    \"개에게 적대감을 느낀다\",\n",
    "    \"생선 뼈를 발라 먹고 싶다\",\n",
    "    \"밤, 기운이 난다\"\n",
    "]\n",
    "\n",
    "# 반복해서 체크 버튼 배치\n",
    "for i in range(7):\n",
    "    bvar[i] = tkinter.BooleanVar()\n",
    "    bvar[i].set(False)\n",
    "    cbtn[i] = tkinter.Checkbutton(text=ITEM[i], font=(\"Times New Roman\", 12), \n",
    "                                    variable=bvar[i], bg=\"#dfe\")\n",
    "    cbtn[i].place(x=400, y=160 + 40*i)\n",
    "\n",
    "root.mainloop()"
   ]
  },
  {
   "cell_type": "markdown",
   "id": "88066d02",
   "metadata": {
    "ExecuteTime": {
     "end_time": "2021-06-23T05:48:09.044444Z",
     "start_time": "2021-06-23T05:48:09.036466Z"
    }
   },
   "source": [
    "## 단계 3: 체크된 버튼 얻기"
   ]
  },
  {
   "cell_type": "code",
   "execution_count": null,
   "id": "8185a6cf",
   "metadata": {
    "ExecuteTime": {
     "end_time": "2021-06-23T05:51:34.214663Z",
     "start_time": "2021-06-23T05:51:31.092028Z"
    }
   },
   "outputs": [],
   "source": [
    "# 버튼 클릭 시 체크한 버튼의 개수를 입력 필드에 대입해주는 함수\n",
    "def click_btn():\n",
    "    pts = 0\n",
    "    for i in range(7):\n",
    "        if bvar[i].get() == True:\n",
    "            pts += 1\n",
    "    text.delete(\"1.0\", tkinter.END)\n",
    "    text.insert(\"1.0\", f\"체크된 수는 {pts}\")\n",
    "\n",
    "root = tkinter.Tk()\n",
    "root.title(\"고양이 지수 진단 게임\")\n",
    "root.resizable(False, False)\n",
    "canvas = tkinter.Canvas(root, width=800, height=600)\n",
    "canvas.pack()\n",
    "gazou = tkinter.PhotoImage(file=\"mina.png\")\n",
    "canvas.create_image(400, 300, image=gazou)\n",
    "button = tkinter.Button(text=\"진단하기\", font=(\"Times New Roman\", 32),\n",
    "                            bg=\"lightgreen\", command=click_btn)\n",
    "button.place(x=400, y=480)\n",
    "text = tkinter.Text(width=40, height=5, font=(\"Times New Roman\", 16))\n",
    "text.place(x=320, y=30)\n",
    "\n",
    "# BooleanVal 객체용 리스트\n",
    "bvar = [None] * 7\n",
    "# 체크 버튼용 리스트\n",
    "cbtn = [None] * 7\n",
    "# 체크 버튼 질문 정의\n",
    "ITEM = [\n",
    "    \"높은 곳이 좋다\",\n",
    "    \"공을 보면 굴리고 싶어진다\",\n",
    "    \"깜짝 놀라면 털이 곤두선다\",\n",
    "    \"쥐구멍이 마음에 든다\",\n",
    "    \"개에게 적대감을 느낀다\",\n",
    "    \"생선 뼈를 발라 먹고 싶다\",\n",
    "    \"밤, 기운이 난다\"\n",
    "]\n",
    "\n",
    "# 반복해서 체크 버튼 배치\n",
    "for i in range(7):\n",
    "    bvar[i] = tkinter.BooleanVar()\n",
    "    bvar[i].set(False)\n",
    "    cbtn[i] = tkinter.Checkbutton(text=ITEM[i], font=(\"Times New Roman\", 12), \n",
    "                                    variable=bvar[i], bg=\"#dfe\")\n",
    "    cbtn[i].place(x=400, y=160 + 40*i)\n",
    "\n",
    "root.mainloop()"
   ]
  },
  {
   "cell_type": "markdown",
   "id": "e0fe156a",
   "metadata": {},
   "source": [
    "## 단계 4: 주석 출력하기"
   ]
  },
  {
   "cell_type": "code",
   "execution_count": 4,
   "id": "67aac4de",
   "metadata": {
    "ExecuteTime": {
     "end_time": "2021-06-24T07:16:42.592110Z",
     "start_time": "2021-06-24T07:16:17.135960Z"
    }
   },
   "outputs": [],
   "source": [
    "# 버튼 클릭 시 체크한 버튼의 개수를 확인하고 고양이 지수를 출력해주는 함수\n",
    "def click_btn():\n",
    "    pts = 0\n",
    "    for i in range(7):\n",
    "        if bvar[i].get() == True:\n",
    "            pts += 1\n",
    "    nekodo = int(100 * pts / 7)\n",
    "    text.delete(\"1.0\", tkinter.END)\n",
    "    text.insert(\"1.0\", f\"<진단결과>\\n당신의 고양이 지수는 {nekodo}%입니다\\n {RESULT[pts]}\")\n",
    "\n",
    "root = tkinter.Tk()\n",
    "root.title(\"고양이 지수 진단 게임\")\n",
    "root.resizable(False, False)\n",
    "canvas = tkinter.Canvas(root, width=800, height=600)\n",
    "canvas.pack()\n",
    "gazou = tkinter.PhotoImage(file=\"mina.png\")\n",
    "canvas.create_image(400, 300, image=gazou)\n",
    "button = tkinter.Button(text=\"진단하기\", font=(\"Times New Roman\", 32),\n",
    "                            bg=\"lightgreen\", command=click_btn)\n",
    "button.place(x=400, y=480)\n",
    "text = tkinter.Text(width=40, height=5, font=(\"Times New Roman\", 16))\n",
    "text.place(x=320, y=30)\n",
    "\n",
    "# BooleanVal 객체용 리스트\n",
    "bvar = [None] * 7\n",
    "# 체크 버튼용 리스트\n",
    "cbtn = [None] * 7\n",
    "# 체크 버튼 질문 정의\n",
    "ITEM = [\n",
    "    \"높은 곳이 좋다\",\n",
    "    \"공을 보면 굴리고 싶어진다\",\n",
    "    \"깜짝 놀라면 털이 곤두선다\",\n",
    "    \"쥐구멍이 마음에 든다\",\n",
    "    \"개에게 적대감을 느낀다\",\n",
    "    \"생선 뼈를 발라 먹고 싶다\",\n",
    "    \"밤, 기운이 난다\"\n",
    "]\n",
    "# 진단 결과 주석을 리스트로 정의\n",
    "RESULT = [\n",
    "    \"전생에 고양이었을 가능성은 매우 낮습니다.\",\n",
    "    \"보통 사람입니다.\",\n",
    "    \"특별히 이상한 곳은 없습니다.\",\n",
    "    \"꽤 고양이 다운 구석이 있습니다.\",\n",
    "    \"고양이와 비슷한 성격 같습니다.\",\n",
    "    \"고양이와 근접한 성격입니다.\",\n",
    "    \"전생에 고양이었을지도 모릅니다.\",\n",
    "    \"겉모습은 사람이지만, 속은 고양이일 가능성이 있습니다.\"\n",
    "]\n",
    "\n",
    "# 반복해서 체크 버튼 배치\n",
    "for i in range(7):\n",
    "    bvar[i] = tkinter.BooleanVar()\n",
    "    bvar[i].set(False)\n",
    "    cbtn[i] = tkinter.Checkbutton(text=ITEM[i], font=(\"Times New Roman\", 12), \n",
    "                                    variable=bvar[i], bg=\"#dfe\")\n",
    "    cbtn[i].place(x=400, y=160 + 40*i)\n",
    "\n",
    "root.mainloop()"
   ]
  },
  {
   "cell_type": "code",
   "execution_count": null,
   "id": "68d738d1",
   "metadata": {},
   "outputs": [],
   "source": []
  },
  {
   "cell_type": "markdown",
   "id": "e9c4ab89",
   "metadata": {},
   "source": [
    "# pyinstaller 용"
   ]
  },
  {
   "cell_type": "code",
   "execution_count": null,
   "id": "634e0a2f",
   "metadata": {
    "ExecuteTime": {
     "end_time": "2021-06-23T08:13:22.676381Z",
     "start_time": "2021-06-23T08:13:16.554136Z"
    }
   },
   "outputs": [],
   "source": [
    "import tkinter\n",
    "import random\n",
    "import os\n",
    "\n",
    "\n",
    "# PyInstaller에 의해 임시폴더에서 실행될 경우 임시폴더로 접근하는 함수\n",
    "def resource_path(relative_path):\n",
    "    try:\n",
    "        base_path = sys._MEIPASS\n",
    "    except Exception:\n",
    "        base_path = os.path.abspath(\".\")\n",
    "    return os.path.join(base_path, relative_path)\n",
    "\n",
    "# 버튼 클릭 시 체크한 버튼의 개수를 확인하고 고양이 지수를 출력해주는 함수\n",
    "def click_btn():\n",
    "    pts = 0\n",
    "    for i in range(7):\n",
    "        if bvar[i].get() == True:\n",
    "            pts += 1\n",
    "    nekodo = int(100 * pts / 7)\n",
    "    text.delete(\"1.0\", tkinter.END)\n",
    "    text.insert(\"1.0\", f\"<진단결과>\\n당신의 고양이 지수는 {nekodo}%입니다\\n {RESULT[pts]}\")\n",
    "\n",
    "    \n",
    "if __name__ == \"__main__\":\n",
    "    root = tkinter.Tk()\n",
    "    root.title(\"고양이 지수 진단 게임\")\n",
    "    root.resizable(False, False)\n",
    "    canvas = tkinter.Canvas(root, width=800, height=600)\n",
    "    canvas.pack()\n",
    "    img = resource_path(\"mina.png\")\n",
    "    gazou = tkinter.PhotoImage(file=img)\n",
    "    canvas.create_image(400, 300, image=gazou)\n",
    "    button = tkinter.Button(text=\"진단하기\", font=(\"Times New Roman\", 32),\n",
    "                                bg=\"lightgreen\", command=click_btn)\n",
    "    button.place(x=400, y=480)\n",
    "    text = tkinter.Text(width=40, height=5, font=(\"Times New Roman\", 16))\n",
    "    text.place(x=320, y=30)\n",
    "\n",
    "    # BooleanVal 객체용 리스트\n",
    "    bvar = [None] * 7\n",
    "    # 체크 버튼용 리스트\n",
    "    cbtn = [None] * 7\n",
    "    # 체크 버튼 질문 정의\n",
    "    ITEM = [\n",
    "        \"높은 곳이 좋다\",\n",
    "        \"공을 보면 굴리고 싶어진다\",\n",
    "        \"깜짝 놀라면 털이 곤두선다\",\n",
    "        \"쥐구멍이 마음에 든다\",\n",
    "        \"개에게 적대감을 느낀다\",\n",
    "        \"생선 뼈를 발라 먹고 싶다\",\n",
    "        \"밤, 기운이 난다\"\n",
    "    ]\n",
    "    # 진단 결과 주석을 리스트로 정의\n",
    "    RESULT = [\n",
    "        \"전생에 고양이었을 가능성은 매우 낮습니다.\",\n",
    "        \"보통 사람입니다.\",\n",
    "        \"특별히 이상한 곳은 없습니다.\",\n",
    "        \"꽤 고양이 다운 구석이 있습니다.\",\n",
    "        \"고양이와 비슷한 성격 같습니다.\",\n",
    "        \"고양이와 근접한 성격입니다.\",\n",
    "        \"전생에 고양이었을지도 모릅니다.\",\n",
    "        \"겉모습은 사람이지만, 속은 고양이일 가능성이 있습니다.\"\n",
    "    ]\n",
    "\n",
    "    # 반복해서 체크 버튼 배치\n",
    "    for i in range(7):\n",
    "        bvar[i] = tkinter.BooleanVar()\n",
    "        bvar[i].set(False)\n",
    "        cbtn[i] = tkinter.Checkbutton(text=ITEM[i], font=(\"Times New Roman\", 12), \n",
    "                                        variable=bvar[i], bg=\"#dfe\")\n",
    "        cbtn[i].place(x=400, y=160 + 40*i)\n",
    "\n",
    "    root.mainloop()"
   ]
  },
  {
   "cell_type": "code",
   "execution_count": null,
   "id": "8359e0db",
   "metadata": {},
   "outputs": [],
   "source": []
  },
  {
   "cell_type": "code",
   "execution_count": null,
   "id": "299f4c8a",
   "metadata": {},
   "outputs": [],
   "source": []
  }
 ],
 "metadata": {
  "kernelspec": {
   "display_name": "Python 3",
   "language": "python",
   "name": "python3"
  },
  "language_info": {
   "codemirror_mode": {
    "name": "ipython",
    "version": 3
   },
   "file_extension": ".py",
   "mimetype": "text/x-python",
   "name": "python",
   "nbconvert_exporter": "python",
   "pygments_lexer": "ipython3",
   "version": "3.8.5"
  },
  "toc": {
   "base_numbering": 1,
   "nav_menu": {},
   "number_sections": false,
   "sideBar": true,
   "skip_h1_title": false,
   "title_cell": "Table of Contents",
   "title_sidebar": "Contents",
   "toc_cell": false,
   "toc_position": {},
   "toc_section_display": true,
   "toc_window_display": false
  },
  "varInspector": {
   "cols": {
    "lenName": 16,
    "lenType": 16,
    "lenVar": 40
   },
   "kernels_config": {
    "python": {
     "delete_cmd_postfix": "",
     "delete_cmd_prefix": "del ",
     "library": "var_list.py",
     "varRefreshCmd": "print(var_dic_list())"
    },
    "r": {
     "delete_cmd_postfix": ") ",
     "delete_cmd_prefix": "rm(",
     "library": "var_list.r",
     "varRefreshCmd": "cat(var_dic_list()) "
    }
   },
   "types_to_exclude": [
    "module",
    "function",
    "builtin_function_or_method",
    "instance",
    "_Feature"
   ],
   "window_display": false
  }
 },
 "nbformat": 4,
 "nbformat_minor": 5
}
