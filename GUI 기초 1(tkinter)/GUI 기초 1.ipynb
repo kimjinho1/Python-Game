{
 "cells": [
  {
   "cell_type": "markdown",
   "id": "423ecf93",
   "metadata": {},
   "source": [
    "# GUI 기초 1"
   ]
  },
  {
   "cell_type": "code",
   "execution_count": 1,
   "id": "d79eccfe",
   "metadata": {
    "ExecuteTime": {
     "end_time": "2021-06-21T15:32:36.467959Z",
     "start_time": "2021-06-21T15:32:36.428066Z"
    }
   },
   "outputs": [],
   "source": [
    "import tkinter\n",
    "import random"
   ]
  },
  {
   "cell_type": "markdown",
   "id": "56a9f4fd",
   "metadata": {},
   "source": [
    "# 1 GUI란?"
   ]
  },
  {
   "cell_type": "markdown",
   "id": "1214cff1",
   "metadata": {},
   "source": [
    "**GUI: 소프트웨어의 조작 방법을 직관적으로 알 수 있게 해주는 인터페이스**"
   ]
  },
  {
   "cell_type": "markdown",
   "id": "9282da56",
   "metadata": {},
   "source": [
    "## 1.1 윈도우 표시하기"
   ]
  },
  {
   "cell_type": "code",
   "execution_count": 3,
   "id": "9e8b455b",
   "metadata": {
    "ExecuteTime": {
     "end_time": "2021-06-20T13:02:16.180290Z",
     "start_time": "2021-06-20T13:00:35.615676Z"
    }
   },
   "outputs": [],
   "source": [
    "root = tkinter.Tk() # 윈도우 요소(객체) 생성\n",
    "root.mainloop() # 윈도우 표시"
   ]
  },
  {
   "cell_type": "markdown",
   "id": "474627b1",
   "metadata": {},
   "source": [
    "## 1.2 제목과 크기 지정하기"
   ]
  },
  {
   "cell_type": "code",
   "execution_count": 4,
   "id": "b1b40595",
   "metadata": {
    "ExecuteTime": {
     "end_time": "2021-06-20T13:02:29.927721Z",
     "start_time": "2021-06-20T13:02:17.435978Z"
    }
   },
   "outputs": [],
   "source": [
    "root = tkinter.Tk() \n",
    "root.title(\"첫 번째 윈도우\") # 윈도우 제목 지정\n",
    "root.geometry(\"800x600\") # 윈도우 크기 지정\n",
    "root.mainloop() "
   ]
  },
  {
   "cell_type": "markdown",
   "id": "27ee1496",
   "metadata": {},
   "source": [
    "# 2 라벨 배치하기"
   ]
  },
  {
   "cell_type": "markdown",
   "id": "5fa00474",
   "metadata": {},
   "source": [
    "## 2.1 라벨 배치"
   ]
  },
  {
   "cell_type": "code",
   "execution_count": 5,
   "id": "3b3f38e0",
   "metadata": {
    "ExecuteTime": {
     "end_time": "2021-06-20T13:05:59.022990Z",
     "start_time": "2021-06-20T13:04:56.763592Z"
    }
   },
   "outputs": [],
   "source": [
    "root = tkinter.Tk() \n",
    "root.title(\"첫 번째 윈도우\") \n",
    "root.geometry(\"800x600\") \n",
    "# 라벨 컴포넌트 생성\n",
    "label = tkinter.Label(root, text=\"라벨 문자열\", font=(\"Times New Roman\", 24)) \n",
    "# 윈도우에 라벨 배치\n",
    "label.place(x=200, y=100)\n",
    "root.mainloop() "
   ]
  },
  {
   "cell_type": "markdown",
   "id": "8830265c",
   "metadata": {},
   "source": [
    "## 2.2 사용 가능한 폰트 확인(553개 있음)"
   ]
  },
  {
   "cell_type": "code",
   "execution_count": 6,
   "id": "f0fa1612",
   "metadata": {
    "ExecuteTime": {
     "end_time": "2021-06-20T13:06:36.621681Z",
     "start_time": "2021-06-20T13:06:36.454069Z"
    }
   },
   "outputs": [
    {
     "name": "stdout",
     "output_type": "stream",
     "text": [
      "553\n"
     ]
    }
   ],
   "source": [
    "import tkinter.font\n",
    "\n",
    "root = tkinter.Tk()\n",
    "fonts = tkinter.font.families()\n",
    "print(len(fonts))"
   ]
  },
  {
   "cell_type": "markdown",
   "id": "7722b67f",
   "metadata": {},
   "source": [
    "# 3 버튼 배치하기"
   ]
  },
  {
   "cell_type": "markdown",
   "id": "0521a987",
   "metadata": {},
   "source": [
    "## 3.1 버튼 배치"
   ]
  },
  {
   "cell_type": "code",
   "execution_count": 7,
   "id": "89cb1e51",
   "metadata": {
    "ExecuteTime": {
     "end_time": "2021-06-20T13:09:09.226728Z",
     "start_time": "2021-06-20T13:07:58.304366Z"
    }
   },
   "outputs": [],
   "source": [
    "root = tkinter.Tk() \n",
    "root.title(\"첫 번째 버튼\") \n",
    "root.geometry(\"800x600\") \n",
    "# 버튼 컴포넌트 생성\n",
    "button = tkinter.Button(root, text=\"버튼 문자열\", font=(\"Times New Roman\", 24))\n",
    "# 윈도우에 버튼 배치\n",
    "button.place(x=200, y=100) \n",
    "root.mainloop() "
   ]
  },
  {
   "cell_type": "markdown",
   "id": "b197a3ff",
   "metadata": {},
   "source": [
    "## 3.2 버튼 클릭 시 반응"
   ]
  },
  {
   "cell_type": "code",
   "execution_count": 8,
   "id": "64d27d66",
   "metadata": {
    "ExecuteTime": {
     "end_time": "2021-06-20T13:13:36.160100Z",
     "start_time": "2021-06-20T13:09:10.314813Z"
    }
   },
   "outputs": [],
   "source": [
    "# 버튼 문자열 변경 함수\n",
    "def click_btn():\n",
    "    button[\"text\"] = \"클릭했습니다\"\n",
    "\n",
    "root = tkinter.Tk() \n",
    "root.title(\"첫 번째 버튼\") \n",
    "root.geometry(\"800x600\") \n",
    "# 버튼 컴포넌트 생성 -> command=로 클릭 시 동작할 함수 지정\n",
    "button = tkinter.Button(root, text=\"버튼 문자열\",\n",
    "                        font=(\"Times New Roman\", 24), command=click_btn)\n",
    "button.place(x=200, y=100) \n",
    "root.mainloop() "
   ]
  },
  {
   "cell_type": "markdown",
   "id": "5c43a7fe",
   "metadata": {},
   "source": [
    "# 4 캔버스 사용하기"
   ]
  },
  {
   "cell_type": "markdown",
   "id": "0325c428",
   "metadata": {},
   "source": [
    "## 4.1 캔버스 배치"
   ]
  },
  {
   "cell_type": "markdown",
   "id": "8b02ea63",
   "metadata": {},
   "source": [
    "**pack() 명령어로 배치하면 캔버스 크기에 맞춰 윈도우 크기가 결정된다.  \n",
    "윈도우에 캔버스만을 배치하는 경우에는 아래 코드와 같이 root.geometry()를 생략할 수 있다.**"
   ]
  },
  {
   "cell_type": "code",
   "execution_count": 9,
   "id": "a1b0ab8b",
   "metadata": {
    "ExecuteTime": {
     "end_time": "2021-06-20T13:14:12.243282Z",
     "start_time": "2021-06-20T13:13:37.139884Z"
    }
   },
   "outputs": [],
   "source": [
    "root = tkinter.Tk() \n",
    "root.title(\"첫 번째 캔버스\") \n",
    "# 캔버스 컴포넌트 생성\n",
    "canvas = tkinter.Canvas(root, width=400, height=600,\n",
    "                       bg=\"skyblue\")\n",
    "# 윈도우에 캔버스 배치\n",
    "canvas.pack()\n",
    "root.mainloop() "
   ]
  },
  {
   "cell_type": "markdown",
   "id": "d042afbd",
   "metadata": {},
   "source": [
    "## 4.2 캔버스에 이미지 표시하기"
   ]
  },
  {
   "cell_type": "markdown",
   "id": "e1f3a8a8",
   "metadata": {},
   "source": [
    "**create_image() 명령에 지정한 X, Y 좌표는 이미지의 중점이다.   \n",
    "다른 값을 넣으면 이미지가 잘린다.**"
   ]
  },
  {
   "cell_type": "code",
   "execution_count": 10,
   "id": "7aca2504",
   "metadata": {
    "ExecuteTime": {
     "end_time": "2021-06-20T13:31:14.737706Z",
     "start_time": "2021-06-20T13:17:59.212672Z"
    }
   },
   "outputs": [],
   "source": [
    "root = tkinter.Tk() \n",
    "root.title(\"첫 번째 캔버스\") \n",
    "canvas = tkinter.Canvas(root, width=400, height=600)\n",
    "canvas.pack()\n",
    "# gazou에 이미지 파일 로딩\n",
    "gazou = tkinter.PhotoImage(file=\"hyunju.png\")\n",
    "# 캔버스에 이미지 그리기\n",
    "canvas.create_image(200, 300, image=gazou)\n",
    "root.mainloop() "
   ]
  },
  {
   "cell_type": "markdown",
   "id": "1851023d",
   "metadata": {},
   "source": [
    "# 5 제비뽑기 프로그램 만들기"
   ]
  },
  {
   "cell_type": "markdown",
   "id": "08bed1ac",
   "metadata": {},
   "source": [
    "## 5.1 이미지 표시"
   ]
  },
  {
   "cell_type": "markdown",
   "id": "87f41af8",
   "metadata": {},
   "source": [
    "**resizable() 명령으로 윈도우 크기를 변경하지 못하게 함.  \n",
    "첫 번째 인수는 가로 방향 크기 변경 여부, 두 번째 인수는 세로 방향 크기 변경 여부를 의미한다.**"
   ]
  },
  {
   "cell_type": "code",
   "execution_count": 11,
   "id": "71f0eabf",
   "metadata": {
    "ExecuteTime": {
     "end_time": "2021-06-20T13:32:05.927605Z",
     "start_time": "2021-06-20T13:31:16.450524Z"
    }
   },
   "outputs": [],
   "source": [
    "root = tkinter.Tk() \n",
    "root.title(\"제비봅기 프로그램\")\n",
    "# 윈도우 크기 고정\n",
    "root.resizable(False, False) \n",
    "canvas = tkinter.Canvas(root, width=800, height=600)\n",
    "canvas.pack()\n",
    "gazou = tkinter.PhotoImage(file=\"miko.png\")\n",
    "canvas.create_image(400, 300, image=gazou)\n",
    "root.mainloop() "
   ]
  },
  {
   "cell_type": "markdown",
   "id": "66261ae3",
   "metadata": {},
   "source": [
    "## 5.2 GUI 배치"
   ]
  },
  {
   "cell_type": "markdown",
   "id": "161ba842",
   "metadata": {},
   "source": [
    "**fg는 foreground, bg는 background의 약자이다.**"
   ]
  },
  {
   "cell_type": "code",
   "execution_count": 12,
   "id": "8908a158",
   "metadata": {
    "ExecuteTime": {
     "end_time": "2021-06-20T13:35:04.653460Z",
     "start_time": "2021-06-20T13:34:00.015058Z"
    }
   },
   "outputs": [],
   "source": [
    "root = tkinter.Tk() \n",
    "root.title(\"제비봅기 프로그램\")\n",
    "root.resizable(False, False) \n",
    "canvas = tkinter.Canvas(root, width=800, height=600)\n",
    "canvas.pack()\n",
    "gazou = tkinter.PhotoImage(file=\"miko.png\")\n",
    "canvas.create_image(400, 300, image=gazou)\n",
    "\n",
    "# 라벨 추가\n",
    "label = tkinter.Label(root, text=\"??\", font=(\"Times New Roman\", 120),\n",
    "                        bg=\"white\")\n",
    "label.place(x=380, y=60)\n",
    "# 버튼 추가\n",
    "button = tkinter.Button(root, text=\"제비뽑기\", font=(\"Times New Roman\", 36),\n",
    "                        fg=\"skyblue\")\n",
    "button.place(x=360, y=400)\n",
    "\n",
    "root.mainloop() "
   ]
  },
  {
   "cell_type": "markdown",
   "id": "de5b8703",
   "metadata": {},
   "source": [
    "## 5.3 버튼 클릭 시 반응하기"
   ]
  },
  {
   "cell_type": "code",
   "execution_count": 2,
   "id": "0df8c131",
   "metadata": {
    "ExecuteTime": {
     "end_time": "2021-06-21T15:32:44.336903Z",
     "start_time": "2021-06-21T15:32:39.918110Z"
    }
   },
   "outputs": [],
   "source": [
    "# 버튼 클릭시 실행될 함수 정의 -> 라벨 문자열 무작위로 변경\n",
    "def click_btn():\n",
    "    label[\"text\"] = random.choice([\"대길\", \"중길\", \"소길\", \"흉\"])\n",
    "    label.update()\n",
    "\n",
    "root = tkinter.Tk() \n",
    "root.title(\"제비봅기 프로그램\")\n",
    "root.resizable(False, False) \n",
    "canvas = tkinter.Canvas(root, width=800, height=600)\n",
    "canvas.pack()\n",
    "gazou = tkinter.PhotoImage(file=\"miko.png\")\n",
    "canvas.create_image(400, 300, image=gazou)\n",
    "\n",
    "label = tkinter.Label(root, text=\"??\", font=(\"Times New Roman\", 120),\n",
    "                        bg=\"white\")\n",
    "label.place(x=380, y=60)\n",
    "# 버튼 생성, command 인자로 클릭 시 호출할 함수 지정\n",
    "button = tkinter.Button(root, text=\"제비뽑기\", font=(\"Times New Roman\", 36),\n",
    "                        fg=\"skyblue\", command=click_btn)\n",
    "button.place(x=360, y=400)\n",
    "\n",
    "root.mainloop() "
   ]
  },
  {
   "cell_type": "markdown",
   "id": "35e782e4",
   "metadata": {},
   "source": [
    "# 6 캔버스에 도형 표시하기"
   ]
  },
  {
   "cell_type": "code",
   "execution_count": 14,
   "id": "371fff17",
   "metadata": {
    "ExecuteTime": {
     "end_time": "2021-06-20T13:47:45.420102Z",
     "start_time": "2021-06-20T13:39:46.642576Z"
    }
   },
   "outputs": [],
   "source": [
    "root = tkinter.Tk()\n",
    "root.title(\"캔버스에 도형 그리기\")\n",
    "root.geometry(\"500x400\")\n",
    "cvs = tkinter.Canvas(root, width=500, height=400, bg=\"white\")\n",
    "cvs.pack()\n",
    "cvs.create_text(250, 25, text=\"문자열\", fill=\"green\", font=(\"Times New Roman\", 24))\n",
    "cvs.create_line(30, 30, 70, 80, fill=\"navy\", width=5)\n",
    "cvs.create_line(120, 20, 80, 50, 200, 80, 140, 120, fill=\"blue\", smooth=True)\n",
    "cvs.create_rectangle(40, 140, 160, 200, fill=\"lime\")\n",
    "cvs.create_rectangle(60, 240, 120, 360, fill=\"pink\", outline=\"red\", width=5)\n",
    "cvs.create_oval(250 - 40, 100 - 40, 250 + 40, 100 + 40, fill=\"silver\", outline=\"purple\")\n",
    "cvs.create_oval(250 - 80, 200 - 40, 250 + 80, 200 + 40, fill=\"cyan\", width=0)\n",
    "cvs.create_polygon(250, 250, 150, 350, 350, 350, fill=\"magenta\", width=0)\n",
    "cvs.create_arc(400 - 50, 100 - 50, 400 + 50, 100 + 50, fill=\"yellow\", start=30, extent=300)\n",
    "cvs.create_arc(400 - 50, 250 - 50, 400 + 50, 250 + 50, fill=\"gold\", start=0, extent=120, style=tkinter.CHORD)\n",
    "cvs.create_arc(400 - 50, 350 - 50, 400 + 50, 350 + 50, outline=\"orange\", start=0, extent=120, style=tkinter.ARC)\n",
    "cvs.mainloop()"
   ]
  },
  {
   "cell_type": "code",
   "execution_count": null,
   "id": "82c86b13",
   "metadata": {},
   "outputs": [],
   "source": []
  },
  {
   "cell_type": "code",
   "execution_count": null,
   "id": "a656f45d",
   "metadata": {},
   "outputs": [],
   "source": []
  }
 ],
 "metadata": {
  "kernelspec": {
   "display_name": "Python 3",
   "language": "python",
   "name": "python3"
  },
  "language_info": {
   "codemirror_mode": {
    "name": "ipython",
    "version": 3
   },
   "file_extension": ".py",
   "mimetype": "text/x-python",
   "name": "python",
   "nbconvert_exporter": "python",
   "pygments_lexer": "ipython3",
   "version": "3.9.5"
  },
  "toc": {
   "base_numbering": "1",
   "nav_menu": {},
   "number_sections": false,
   "sideBar": true,
   "skip_h1_title": false,
   "title_cell": "Table of Contents",
   "title_sidebar": "Contents",
   "toc_cell": false,
   "toc_position": {},
   "toc_section_display": true,
   "toc_window_display": false
  },
  "varInspector": {
   "cols": {
    "lenName": 16,
    "lenType": 16,
    "lenVar": 40
   },
   "kernels_config": {
    "python": {
     "delete_cmd_postfix": "",
     "delete_cmd_prefix": "del ",
     "library": "var_list.py",
     "varRefreshCmd": "print(var_dic_list())"
    },
    "r": {
     "delete_cmd_postfix": ") ",
     "delete_cmd_prefix": "rm(",
     "library": "var_list.r",
     "varRefreshCmd": "cat(var_dic_list()) "
    }
   },
   "types_to_exclude": [
    "module",
    "function",
    "builtin_function_or_method",
    "instance",
    "_Feature"
   ],
   "window_display": false
  }
 },
 "nbformat": 4,
 "nbformat_minor": 5
}
