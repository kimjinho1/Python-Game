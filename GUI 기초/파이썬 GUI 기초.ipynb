{
 "cells": [
  {
   "cell_type": "markdown",
   "id": "9b0ea569",
   "metadata": {},
   "source": [
    "# GUI 기초"
   ]
  },
  {
   "cell_type": "code",
   "execution_count": 9,
   "id": "a19778d6",
   "metadata": {
    "ExecuteTime": {
     "end_time": "2021-06-20T11:52:40.671129Z",
     "start_time": "2021-06-20T11:52:40.664952Z"
    }
   },
   "outputs": [],
   "source": [
    "import tkinter\n",
    "import random"
   ]
  },
  {
   "cell_type": "markdown",
   "id": "d64ecf7f",
   "metadata": {},
   "source": [
    "# 1 GUI란?"
   ]
  },
  {
   "cell_type": "markdown",
   "id": "d3636bb4",
   "metadata": {},
   "source": [
    "## 1.1 윈도우 표시하기"
   ]
  },
  {
   "cell_type": "markdown",
   "id": "d320b109",
   "metadata": {},
   "source": [
    "import tkinter\n",
    "import random"
   ]
  },
  {
   "cell_type": "code",
   "execution_count": null,
   "id": "b6b221be",
   "metadata": {
    "ExecuteTime": {
     "end_time": "2021-06-20T11:29:58.492055Z",
     "start_time": "2021-06-20T11:29:51.188053Z"
    }
   },
   "outputs": [],
   "source": [
    "root = tkinter.Tk() # 윈도우 요소(객체) 생성\n",
    "root.mainloop() # 윈도우 표시"
   ]
  },
  {
   "cell_type": "markdown",
   "id": "fabbaae6",
   "metadata": {},
   "source": [
    "## 1.2 제목과 크기 지정하기"
   ]
  },
  {
   "cell_type": "code",
   "execution_count": null,
   "id": "56c06856",
   "metadata": {
    "ExecuteTime": {
     "end_time": "2021-06-20T11:30:01.090751Z",
     "start_time": "2021-06-20T11:29:58.513995Z"
    }
   },
   "outputs": [],
   "source": [
    "root = tkinter.Tk() \n",
    "root.title(\"첫 번째 윈도우\") # 윈도우 제목 지정\n",
    "root.geometry(\"800x600\") # 윈도우 크기 지정\n",
    "root.mainloop() "
   ]
  },
  {
   "cell_type": "markdown",
   "id": "c6f697f5",
   "metadata": {},
   "source": [
    "# 2 라벨 배치하기"
   ]
  },
  {
   "cell_type": "markdown",
   "id": "b7840799",
   "metadata": {},
   "source": [
    "## 2.1 라벨 배치"
   ]
  },
  {
   "cell_type": "code",
   "execution_count": null,
   "id": "8686fefc",
   "metadata": {
    "ExecuteTime": {
     "end_time": "2021-06-20T11:30:04.018168Z",
     "start_time": "2021-06-20T11:30:02.653044Z"
    }
   },
   "outputs": [],
   "source": [
    "root = tkinter.Tk() \n",
    "root.title(\"첫 번째 윈도우\") \n",
    "root.geometry(\"800x600\") \n",
    "# 라벨 컴포넌트 생성\n",
    "label = tkinter.Label(root, text=\"라벨 문자열\", font=(\"Times New Roman\", 24)) \n",
    "# 윈도우에 라벨 배치\n",
    "label.place(x=200, y=100)\n",
    "root.mainloop() "
   ]
  },
  {
   "cell_type": "markdown",
   "id": "33f47f8a",
   "metadata": {},
   "source": [
    "## 2.2 사용 가능한 폰트 확인(553개 있음)"
   ]
  },
  {
   "cell_type": "code",
   "execution_count": null,
   "id": "dc6a148b",
   "metadata": {
    "ExecuteTime": {
     "end_time": "2021-06-20T11:30:05.818840Z",
     "start_time": "2021-06-20T11:30:05.637855Z"
    }
   },
   "outputs": [],
   "source": [
    "import tkinter.font\n",
    "\n",
    "root = tkinter.Tk()\n",
    "fonts = tkinter.font.families()\n",
    "print(len(fonts))"
   ]
  },
  {
   "cell_type": "markdown",
   "id": "cb6a52ea",
   "metadata": {},
   "source": [
    "# 3 버튼 배치하기"
   ]
  },
  {
   "cell_type": "markdown",
   "id": "c1f85edc",
   "metadata": {},
   "source": [
    "## 3.1 버튼 배치"
   ]
  },
  {
   "cell_type": "code",
   "execution_count": null,
   "id": "195c93c5",
   "metadata": {
    "ExecuteTime": {
     "end_time": "2021-06-20T11:30:11.627485Z",
     "start_time": "2021-06-20T11:30:07.812687Z"
    }
   },
   "outputs": [],
   "source": [
    "root = tkinter.Tk() \n",
    "root.title(\"첫 번째 버튼\") \n",
    "root.geometry(\"800x600\") \n",
    "# 버튼 컴포넌트 생성\n",
    "button = tkinter.Button(root, text=\"버튼 문자열\", font=(\"Times New Roman\", 24))\n",
    "# 윈도우에 버튼 배치\n",
    "button.place(x=200, y=100) \n",
    "root.mainloop() "
   ]
  },
  {
   "cell_type": "markdown",
   "id": "996e8687",
   "metadata": {},
   "source": [
    "## 3.2 버튼 클릭 시 반응"
   ]
  },
  {
   "cell_type": "code",
   "execution_count": null,
   "id": "04cae603",
   "metadata": {
    "ExecuteTime": {
     "end_time": "2021-06-20T11:30:15.206935Z",
     "start_time": "2021-06-20T11:30:12.956895Z"
    }
   },
   "outputs": [],
   "source": [
    "# 버튼 문자열 변경 함수\n",
    "def click_btn():\n",
    "    button[\"text\"] = \"클릭했습니다\"\n",
    "\n",
    "root = tkinter.Tk() \n",
    "root.title(\"첫 번째 버튼\") \n",
    "root.geometry(\"800x600\") \n",
    "# 버튼 컴포넌트 생성 -> command=로 클릭 시 동작할 함수 지정\n",
    "button = tkinter.Button(root, text=\"버튼 문자열\",\n",
    "                        font=(\"Times New Roman\", 24), command=click_btn)\n",
    "button.place(x=200, y=100) \n",
    "root.mainloop() "
   ]
  },
  {
   "cell_type": "markdown",
   "id": "b14f3c5c",
   "metadata": {},
   "source": [
    "# 4 캔버스 사용하기"
   ]
  },
  {
   "cell_type": "markdown",
   "id": "4dde478f",
   "metadata": {},
   "source": [
    "## 4.1 캔버스 배치"
   ]
  },
  {
   "cell_type": "markdown",
   "id": "a10e2eb6",
   "metadata": {},
   "source": [
    "**pack() 명령엉로 배치하면 캔버스 크기에 맞춰 윈도우 크기가 결정된다.  \n",
    "윈도우에 캔버스만을 배치하는 경우에는 아래 코드와 같이 root.geometry()를 생략할 수 있다.**"
   ]
  },
  {
   "cell_type": "code",
   "execution_count": null,
   "id": "7ea287ae",
   "metadata": {
    "ExecuteTime": {
     "end_time": "2021-06-20T11:30:18.682209Z",
     "start_time": "2021-06-20T11:30:17.108597Z"
    }
   },
   "outputs": [],
   "source": [
    "root = tkinter.Tk() \n",
    "root.title(\"첫 번째 캔버스\") \n",
    "# 캔버스 컴포넌트 생성\n",
    "canvas = tkinter.Canvas(root, width=400, height=600,\n",
    "                       bg=\"skyblue\")\n",
    "# 윈도우에 캔버스 배치\n",
    "canvas.pack()\n",
    "root.mainloop() "
   ]
  },
  {
   "cell_type": "markdown",
   "id": "2f673e61",
   "metadata": {},
   "source": [
    "## 4.2 캔버스에 이미지 표시하기"
   ]
  },
  {
   "cell_type": "markdown",
   "id": "05a36de0",
   "metadata": {},
   "source": [
    "**create_image() 명령에 지정한 X, Y 좌표는 이미지의 중점이다.   \n",
    "다른 값을 넣으면 이미지가 잘린다.**"
   ]
  },
  {
   "cell_type": "code",
   "execution_count": null,
   "id": "3a6a78ae",
   "metadata": {
    "ExecuteTime": {
     "end_time": "2021-06-20T11:30:21.265269Z",
     "start_time": "2021-06-20T11:30:19.968193Z"
    }
   },
   "outputs": [],
   "source": [
    "root = tkinter.Tk() \n",
    "root.title(\"첫 번째 캔버스\") \n",
    "canvas = tkinter.Canvas(root, width=400, height=600)\n",
    "canvas.pack()\n",
    "# gazou에 이미지 파일 로딩\n",
    "gazou = tkinter.PhotoImage(file=\"hyunju.png\")\n",
    "# 캔버스에 이미지 그리기\n",
    "canvas.create_image(200, 300, image=gazou)\n",
    "root.mainloop() "
   ]
  },
  {
   "cell_type": "markdown",
   "id": "4b59da61",
   "metadata": {},
   "source": [
    "# 5 제비뽑기 프로그램 만들기"
   ]
  },
  {
   "cell_type": "markdown",
   "id": "e6fcf614",
   "metadata": {},
   "source": [
    "## 5.1 이미지 표시"
   ]
  },
  {
   "cell_type": "markdown",
   "id": "042c4a34",
   "metadata": {},
   "source": [
    "**resizable() 명령으로 윈도우 크기를 변경하지 못하게 함.  \n",
    "첫 번째 인수는 가로 방향 크기 변경 여부, 두 번째 인수는 세로 방향 크기 변경 여부를 의미한다.**"
   ]
  },
  {
   "cell_type": "code",
   "execution_count": null,
   "id": "0ad09048",
   "metadata": {
    "ExecuteTime": {
     "end_time": "2021-06-20T11:30:26.083402Z",
     "start_time": "2021-06-20T11:30:22.637304Z"
    }
   },
   "outputs": [],
   "source": [
    "root = tkinter.Tk() \n",
    "root.title(\"제비봅기 프로그램\")\n",
    "# 윈도우 크기 고정\n",
    "root.resizable(False, False) \n",
    "canvas = tkinter.Canvas(root, width=800, height=600)\n",
    "canvas.pack()\n",
    "gazou = tkinter.PhotoImage(file=\"miko.png\")\n",
    "canvas.create_image(400, 300, image=gazou)\n",
    "root.mainloop() "
   ]
  },
  {
   "cell_type": "markdown",
   "id": "be9a7781",
   "metadata": {},
   "source": [
    "## 5.2 GUI 배치"
   ]
  },
  {
   "cell_type": "markdown",
   "id": "d5f86544",
   "metadata": {},
   "source": [
    "**fg는 foreground, bg는 background의 약자이다.**"
   ]
  },
  {
   "cell_type": "code",
   "execution_count": null,
   "id": "51b5c8bb",
   "metadata": {
    "ExecuteTime": {
     "end_time": "2021-06-20T11:34:08.587818Z",
     "start_time": "2021-06-20T11:34:00.725207Z"
    }
   },
   "outputs": [],
   "source": [
    "root = tkinter.Tk() \n",
    "root.title(\"제비봅기 프로그램\")\n",
    "root.resizable(False, False) \n",
    "canvas = tkinter.Canvas(root, width=800, height=600)\n",
    "canvas.pack()\n",
    "gazou = tkinter.PhotoImage(file=\"miko.png\")\n",
    "canvas.create_image(400, 300, image=gazou)\n",
    "\n",
    "# 라벨 추가\n",
    "label = tkinter.Label(root, text=\"??\", font=(\"Times New Roman\", 120),\n",
    "                        bg=\"white\")\n",
    "label.place(x=380, y=60)\n",
    "# 버튼 추가\n",
    "button = tkinter.Button(root, text=\"제비뽑기\", font=(\"Times New Roman\", 36),\n",
    "                        fg=\"skyblue\")\n",
    "button.place(x=360, y=400)\n",
    "\n",
    "root.mainloop() "
   ]
  },
  {
   "cell_type": "markdown",
   "id": "d392b63a",
   "metadata": {},
   "source": [
    "## 5.3 버튼 클릭 시 반응하기"
   ]
  },
  {
   "cell_type": "code",
   "execution_count": 4,
   "id": "1ec3b425",
   "metadata": {
    "ExecuteTime": {
     "end_time": "2021-06-20T11:40:53.773476Z",
     "start_time": "2021-06-20T11:40:40.961369Z"
    }
   },
   "outputs": [],
   "source": [
    "# 버튼 클릭시 실행될 함수 정의 -> 라벨 문자열 무작위로 변경\n",
    "def click_btn():\n",
    "    label[\"text\"] = random.choice([\"대길\", \"중길\", \"소길\", \"흉\"])\n",
    "    label.update()\n",
    "\n",
    "root = tkinter.Tk() \n",
    "root.title(\"제비봅기 프로그램\")\n",
    "root.resizable(False, False) \n",
    "canvas = tkinter.Canvas(root, width=800, height=600)\n",
    "canvas.pack()\n",
    "gazou = tkinter.PhotoImage(file=\"miko.png\")\n",
    "canvas.create_image(400, 300, image=gazou)\n",
    "\n",
    "label = tkinter.Label(root, text=\"??\", font=(\"Times New Roman\", 120),\n",
    "                        bg=\"white\")\n",
    "label.place(x=380, y=60)\n",
    "# 버튼 생성, command 인자로 클릭 시 호출할 함수 지정\n",
    "button = tkinter.Button(root, text=\"제비뽑기\", font=(\"Times New Roman\", 36),\n",
    "                        fg=\"skyblue\", command=click_btn)\n",
    "button.place(x=360, y=400)\n",
    "\n",
    "root.mainloop() "
   ]
  },
  {
   "cell_type": "markdown",
   "id": "a94383d9",
   "metadata": {},
   "source": [
    "# 6 캔버스에 도형 표시하기"
   ]
  },
  {
   "cell_type": "code",
   "execution_count": 7,
   "id": "5feee3c3",
   "metadata": {
    "ExecuteTime": {
     "end_time": "2021-06-20T11:47:22.455189Z",
     "start_time": "2021-06-20T11:47:20.606281Z"
    }
   },
   "outputs": [],
   "source": [
    "root = tkinter.Tk()\n",
    "root.title(\"캔버스에 도형 그리기\")\n",
    "root.geometry(\"500x400\")\n",
    "cvs = tkinter.Canvas(root, width=500, height=400, bg=\"white\")\n",
    "cvs.pack()\n",
    "cvs.create_text(250, 25, text=\"문자열\", fill=\"green\", font=(\"Times New Roman\", 24))\n",
    "cvs.create_line(30, 30, 70, 80, fill=\"navy\", width=5)\n",
    "cvs.create_line(120, 20, 80, 50, 200, 80, 140, 120, fill=\"blue\", smooth=True)\n",
    "cvs.create_rectangle(40, 140, 160, 200, fill=\"lime\")\n",
    "cvs.create_rectangle(60, 240, 120, 360, fill=\"pink\", outline=\"red\", width=5)\n",
    "cvs.create_oval(250 - 40, 100 - 40, 250 + 40, 100 + 40, fill=\"silver\", outline=\"purple\")\n",
    "cvs.create_oval(250 - 80, 200 - 40, 250 + 80, 200 + 40, fill=\"cyan\", width=0)\n",
    "cvs.create_polygon(250, 250, 150, 350, 350, 350, fill=\"magenta\", width=0)\n",
    "cvs.create_arc(400 - 50, 100 - 50, 400 + 50, 100 + 50, fill=\"yellow\", start=30, extent=300)\n",
    "cvs.create_arc(400 - 50, 250 - 50, 400 + 50, 250 + 50, fill=\"gold\", start=0, extent=120, style=tkinter.CHORD)\n",
    "cvs.create_arc(400 - 50, 350 - 50, 400 + 50, 350 + 50, outline=\"orange\", start=0, extent=120, style=tkinter.ARC)\n",
    "cvs.mainloop()"
   ]
  },
  {
   "cell_type": "code",
   "execution_count": null,
   "id": "b36c2b25",
   "metadata": {},
   "outputs": [],
   "source": []
  },
  {
   "cell_type": "code",
   "execution_count": null,
   "id": "ad53b69d",
   "metadata": {},
   "outputs": [],
   "source": []
  }
 ],
 "metadata": {
  "kernelspec": {
   "display_name": "Python 3",
   "language": "python",
   "name": "python3"
  },
  "language_info": {
   "codemirror_mode": {
    "name": "ipython",
    "version": 3
   },
   "file_extension": ".py",
   "mimetype": "text/x-python",
   "name": "python",
   "nbconvert_exporter": "python",
   "pygments_lexer": "ipython3",
   "version": "3.9.5"
  },
  "toc": {
   "base_numbering": "1",
   "nav_menu": {},
   "number_sections": false,
   "sideBar": true,
   "skip_h1_title": false,
   "title_cell": "Table of Contents",
   "title_sidebar": "Contents",
   "toc_cell": false,
   "toc_position": {},
   "toc_section_display": true,
   "toc_window_display": false
  },
  "varInspector": {
   "cols": {
    "lenName": 16,
    "lenType": 16,
    "lenVar": 40
   },
   "kernels_config": {
    "python": {
     "delete_cmd_postfix": "",
     "delete_cmd_prefix": "del ",
     "library": "var_list.py",
     "varRefreshCmd": "print(var_dic_list())"
    },
    "r": {
     "delete_cmd_postfix": ") ",
     "delete_cmd_prefix": "rm(",
     "library": "var_list.r",
     "varRefreshCmd": "cat(var_dic_list()) "
    }
   },
   "types_to_exclude": [
    "module",
    "function",
    "builtin_function_or_method",
    "instance",
    "_Feature"
   ],
   "window_display": false
  }
 },
 "nbformat": 4,
 "nbformat_minor": 5
}
